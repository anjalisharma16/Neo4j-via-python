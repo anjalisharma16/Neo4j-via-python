{
 "cells": [
  {
   "cell_type": "code",
   "execution_count": 1,
   "id": "1bea5f29",
   "metadata": {},
   "outputs": [
    {
     "name": "stdout",
     "output_type": "stream",
     "text": [
      "Requirement already satisfied: plotly in c:\\users\\kumar\\appdata\\local\\programs\\python\\python39\\lib\\site-packages (5.7.0)\n",
      "Requirement already satisfied: tenacity>=6.2.0 in c:\\users\\kumar\\appdata\\local\\programs\\python\\python39\\lib\\site-packages (from plotly) (8.0.1)\n",
      "Requirement already satisfied: six in c:\\users\\kumar\\appdata\\local\\programs\\python\\python39\\lib\\site-packages (from plotly) (1.15.0)\n",
      "Note: you may need to restart the kernel to use updated packages.\n"
     ]
    }
   ],
   "source": [
    "#%pip install plotly\n",
    "#%pip install py2neo"
   ]
  },
  {
   "cell_type": "code",
   "execution_count": 3,
   "id": "popular-paste",
   "metadata": {},
   "outputs": [],
   "source": [
    "import numpy as np \n",
    "import pandas as pd\n",
    "from py2neo import Graph\n",
    "import matplotlib.pyplot as plt\n",
    "import time\n",
    "import plotly.express as px"
   ]
  },
  {
   "cell_type": "code",
   "execution_count": 4,
   "id": "macro-action",
   "metadata": {},
   "outputs": [
    {
     "data": {
      "text/html": [
       "<div>\n",
       "<style scoped>\n",
       "    .dataframe tbody tr th:only-of-type {\n",
       "        vertical-align: middle;\n",
       "    }\n",
       "\n",
       "    .dataframe tbody tr th {\n",
       "        vertical-align: top;\n",
       "    }\n",
       "\n",
       "    .dataframe thead th {\n",
       "        text-align: right;\n",
       "    }\n",
       "</style>\n",
       "<table border=\"1\" class=\"dataframe\">\n",
       "  <thead>\n",
       "    <tr style=\"text-align: right;\">\n",
       "      <th></th>\n",
       "      <th>Name</th>\n",
       "      <th>Email</th>\n",
       "      <th>Financial Status</th>\n",
       "      <th>Paid at</th>\n",
       "      <th>Fulfillment Status</th>\n",
       "      <th>Fulfilled at</th>\n",
       "      <th>Accepts Marketing</th>\n",
       "      <th>Currency</th>\n",
       "      <th>Subtotal</th>\n",
       "      <th>Shipping</th>\n",
       "      <th>...</th>\n",
       "      <th>Tax 5 Name</th>\n",
       "      <th>Tax 5 Value</th>\n",
       "      <th>Phone</th>\n",
       "      <th>Receipt Number</th>\n",
       "      <th>Duties</th>\n",
       "      <th>Billing Province Name</th>\n",
       "      <th>Shipping Province Name</th>\n",
       "      <th>Payment ID</th>\n",
       "      <th>Payment Terms Name</th>\n",
       "      <th>Next Payment Due At</th>\n",
       "    </tr>\n",
       "  </thead>\n",
       "  <tbody>\n",
       "    <tr>\n",
       "      <th>0</th>\n",
       "      <td>PT207241</td>\n",
       "      <td>NaN</td>\n",
       "      <td>paid</td>\n",
       "      <td>2022-04-19 23:59:18 +0530</td>\n",
       "      <td>fulfilled</td>\n",
       "      <td>2022-04-20 15:00:35 +0530</td>\n",
       "      <td>no</td>\n",
       "      <td>INR</td>\n",
       "      <td>939.0</td>\n",
       "      <td>0.0</td>\n",
       "      <td>...</td>\n",
       "      <td>NaN</td>\n",
       "      <td>NaN</td>\n",
       "      <td>9.180000e+11</td>\n",
       "      <td>NaN</td>\n",
       "      <td>NaN</td>\n",
       "      <td>Uttar Pradesh</td>\n",
       "      <td>Uttar Pradesh</td>\n",
       "      <td>NaN</td>\n",
       "      <td>NaN</td>\n",
       "      <td>NaN</td>\n",
       "    </tr>\n",
       "    <tr>\n",
       "      <th>1</th>\n",
       "      <td>PT207240</td>\n",
       "      <td>NaN</td>\n",
       "      <td>paid</td>\n",
       "      <td>2022-04-19 23:48:24 +0530</td>\n",
       "      <td>fulfilled</td>\n",
       "      <td>2022-04-20 14:01:40 +0530</td>\n",
       "      <td>no</td>\n",
       "      <td>INR</td>\n",
       "      <td>429.0</td>\n",
       "      <td>0.0</td>\n",
       "      <td>...</td>\n",
       "      <td>NaN</td>\n",
       "      <td>NaN</td>\n",
       "      <td>9.160000e+11</td>\n",
       "      <td>NaN</td>\n",
       "      <td>NaN</td>\n",
       "      <td>Telangana</td>\n",
       "      <td>Telangana</td>\n",
       "      <td>NaN</td>\n",
       "      <td>NaN</td>\n",
       "      <td>NaN</td>\n",
       "    </tr>\n",
       "    <tr>\n",
       "      <th>2</th>\n",
       "      <td>PT207239</td>\n",
       "      <td>NaN</td>\n",
       "      <td>paid</td>\n",
       "      <td>2022-04-19 23:32:22 +0530</td>\n",
       "      <td>fulfilled</td>\n",
       "      <td>2022-04-20 14:00:48 +0530</td>\n",
       "      <td>no</td>\n",
       "      <td>INR</td>\n",
       "      <td>319.0</td>\n",
       "      <td>0.0</td>\n",
       "      <td>...</td>\n",
       "      <td>NaN</td>\n",
       "      <td>NaN</td>\n",
       "      <td>9.190000e+11</td>\n",
       "      <td>NaN</td>\n",
       "      <td>NaN</td>\n",
       "      <td>Karnataka</td>\n",
       "      <td>Karnataka</td>\n",
       "      <td>NaN</td>\n",
       "      <td>NaN</td>\n",
       "      <td>NaN</td>\n",
       "    </tr>\n",
       "    <tr>\n",
       "      <th>3</th>\n",
       "      <td>PT207238</td>\n",
       "      <td>NaN</td>\n",
       "      <td>paid</td>\n",
       "      <td>2022-04-19 23:28:26 +0530</td>\n",
       "      <td>fulfilled</td>\n",
       "      <td>2022-04-20 13:01:06 +0530</td>\n",
       "      <td>no</td>\n",
       "      <td>INR</td>\n",
       "      <td>319.0</td>\n",
       "      <td>0.0</td>\n",
       "      <td>...</td>\n",
       "      <td>NaN</td>\n",
       "      <td>NaN</td>\n",
       "      <td>9.190000e+11</td>\n",
       "      <td>NaN</td>\n",
       "      <td>NaN</td>\n",
       "      <td>Telangana</td>\n",
       "      <td>Telangana</td>\n",
       "      <td>NaN</td>\n",
       "      <td>NaN</td>\n",
       "      <td>NaN</td>\n",
       "    </tr>\n",
       "    <tr>\n",
       "      <th>4</th>\n",
       "      <td>PT207237</td>\n",
       "      <td>NaN</td>\n",
       "      <td>paid</td>\n",
       "      <td>2022-04-19 23:27:09 +0530</td>\n",
       "      <td>fulfilled</td>\n",
       "      <td>2022-04-20 14:01:17 +0530</td>\n",
       "      <td>no</td>\n",
       "      <td>INR</td>\n",
       "      <td>1099.0</td>\n",
       "      <td>0.0</td>\n",
       "      <td>...</td>\n",
       "      <td>NaN</td>\n",
       "      <td>NaN</td>\n",
       "      <td>9.200000e+11</td>\n",
       "      <td>NaN</td>\n",
       "      <td>NaN</td>\n",
       "      <td>Himachal Pradesh</td>\n",
       "      <td>Himachal Pradesh</td>\n",
       "      <td>NaN</td>\n",
       "      <td>NaN</td>\n",
       "      <td>NaN</td>\n",
       "    </tr>\n",
       "  </tbody>\n",
       "</table>\n",
       "<p>5 rows × 78 columns</p>\n",
       "</div>"
      ],
      "text/plain": [
       "       Name Email Financial Status                    Paid at  \\\n",
       "0  PT207241   NaN             paid  2022-04-19 23:59:18 +0530   \n",
       "1  PT207240   NaN             paid  2022-04-19 23:48:24 +0530   \n",
       "2  PT207239   NaN             paid  2022-04-19 23:32:22 +0530   \n",
       "3  PT207238   NaN             paid  2022-04-19 23:28:26 +0530   \n",
       "4  PT207237   NaN             paid  2022-04-19 23:27:09 +0530   \n",
       "\n",
       "  Fulfillment Status               Fulfilled at Accepts Marketing Currency  \\\n",
       "0          fulfilled  2022-04-20 15:00:35 +0530                no      INR   \n",
       "1          fulfilled  2022-04-20 14:01:40 +0530                no      INR   \n",
       "2          fulfilled  2022-04-20 14:00:48 +0530                no      INR   \n",
       "3          fulfilled  2022-04-20 13:01:06 +0530                no      INR   \n",
       "4          fulfilled  2022-04-20 14:01:17 +0530                no      INR   \n",
       "\n",
       "   Subtotal  Shipping  ...  Tax 5 Name  Tax 5 Value         Phone  \\\n",
       "0     939.0       0.0  ...         NaN          NaN  9.180000e+11   \n",
       "1     429.0       0.0  ...         NaN          NaN  9.160000e+11   \n",
       "2     319.0       0.0  ...         NaN          NaN  9.190000e+11   \n",
       "3     319.0       0.0  ...         NaN          NaN  9.190000e+11   \n",
       "4    1099.0       0.0  ...         NaN          NaN  9.200000e+11   \n",
       "\n",
       "   Receipt Number Duties Billing Province Name  Shipping Province Name  \\\n",
       "0             NaN    NaN         Uttar Pradesh           Uttar Pradesh   \n",
       "1             NaN    NaN             Telangana               Telangana   \n",
       "2             NaN    NaN             Karnataka               Karnataka   \n",
       "3             NaN    NaN             Telangana               Telangana   \n",
       "4             NaN    NaN      Himachal Pradesh        Himachal Pradesh   \n",
       "\n",
       "  Payment ID  Payment Terms Name  Next Payment Due At  \n",
       "0        NaN                 NaN                  NaN  \n",
       "1        NaN                 NaN                  NaN  \n",
       "2        NaN                 NaN                  NaN  \n",
       "3        NaN                 NaN                  NaN  \n",
       "4        NaN                 NaN                  NaN  \n",
       "\n",
       "[5 rows x 78 columns]"
      ]
     },
     "execution_count": 4,
     "metadata": {},
     "output_type": "execute_result"
    }
   ],
   "source": [
    "df = pd.read_csv('C:/Users/Kumar/OneDrive/Documents/Neo4j/CA_1_Excercise_2/code/orders.csv')\n",
    "df.head()"
   ]
  },
  {
   "cell_type": "code",
   "execution_count": 229,
   "id": "corrected-locator",
   "metadata": {},
   "outputs": [
    {
     "data": {
      "text/plain": [
       "Index(['Name', 'Email', 'Financial Status', 'Paid at', 'Fulfillment Status',\n",
       "       'Fulfilled at', 'Accepts Marketing', 'Currency', 'Subtotal', 'Shipping',\n",
       "       'Taxes', 'Total', 'Discount Code', 'Discount Amount', 'Shipping Method',\n",
       "       'Created at', 'Lineitem quantity', 'Lineitem name', 'Lineitem price',\n",
       "       'Lineitem compare at price', 'Lineitem sku',\n",
       "       'Lineitem requires shipping', 'Lineitem taxable',\n",
       "       'Lineitem fulfillment status', 'Billing Name', 'Billing Street',\n",
       "       'Billing Address1', 'Billing Address2', 'Billing Company',\n",
       "       'Billing City', 'Billing Zip', 'Billing Province', 'Billing Country',\n",
       "       'Billing Phone', 'Shipping Name', 'Shipping Street',\n",
       "       'Shipping Address1', 'Shipping Address2', 'Shipping Company',\n",
       "       'Shipping City', 'Shipping Zip', 'Shipping Province',\n",
       "       'Shipping Country', 'Shipping Phone', 'Notes', 'Note Attributes',\n",
       "       'Cancelled at', 'Payment Method', 'Payment Reference',\n",
       "       'Refunded Amount', 'Vendor', 'Outstanding Balance', 'Employee',\n",
       "       'Location', 'Device ID', 'Id', 'Tags', 'Risk Level', 'Source',\n",
       "       'Lineitem discount', 'Tax 1 Name', 'Tax 1 Value', 'Tax 2 Name',\n",
       "       'Tax 2 Value', 'Tax 3 Name', 'Tax 3 Value', 'Tax 4 Name', 'Tax 4 Value',\n",
       "       'Tax 5 Name', 'Tax 5 Value', 'Phone', 'Receipt Number', 'Duties',\n",
       "       'Billing Province Name', 'Shipping Province Name', 'Payment ID',\n",
       "       'Payment Terms Name', 'Next Payment Due At'],\n",
       "      dtype='object')"
      ]
     },
     "execution_count": 229,
     "metadata": {},
     "output_type": "execute_result"
    }
   ],
   "source": [
    "df.columns"
   ]
  },
  {
   "cell_type": "code",
   "execution_count": 230,
   "id": "outdoor-insertion",
   "metadata": {},
   "outputs": [],
   "source": [
    "df.drop(['Email', 'Accepts Marketing', 'Currency', 'Subtotal', 'Shipping',\n",
    "       'Taxes', 'Discount Code', 'Shipping Method', \n",
    "       'Created at', 'Lineitem compare at price', 'Lineitem sku',\n",
    "       'Lineitem requires shipping', 'Lineitem taxable', 'Billing Street',\n",
    "       'Billing Address1', 'Billing Address2', 'Billing Company',\n",
    "       'Billing Zip', 'Billing Province', 'Billing Phone', 'Shipping Name', 'Shipping Street',\n",
    "       'Shipping Address1', 'Shipping Address2', 'Shipping Company',\n",
    "       'Shipping City', 'Shipping Zip', 'Shipping Province',\n",
    "       'Shipping Country', 'Shipping Phone', 'Notes', 'Note Attributes',\n",
    "       'Cancelled at', 'Payment Reference',\n",
    "       'Refunded Amount', 'Vendor', 'Outstanding Balance', 'Employee',\n",
    "       'Location', 'Device ID', 'Id', 'Tags', 'Source',\n",
    "       'Lineitem discount', 'Tax 1 Name', 'Tax 1 Value', 'Tax 2 Name',\n",
    "       'Tax 2 Value', 'Tax 3 Name', 'Tax 3 Value', 'Tax 4 Name', 'Tax 4 Value',\n",
    "       'Tax 5 Name', 'Tax 5 Value', 'Phone', 'Receipt Number', 'Duties',\n",
    "       'Billing Province Name', 'Shipping Province Name', 'Payment ID',\n",
    "       'Payment Terms Name', 'Next Payment Due At', 'Billing Country', 'Fulfilled at', 'Subtotal','Fulfillment Status'\n",
    "        ], axis=1, inplace=True)"
   ]
  },
  {
   "cell_type": "code",
   "execution_count": 231,
   "id": "invalid-indiana",
   "metadata": {},
   "outputs": [],
   "source": [
    "df.rename(columns = {'Name':'OrderId', 'Billing Name':'CustomerName',\n",
    "                     'Lineitem name':'ProductName', 'Lineitem price':'Price', 'Paid at':'Date'\n",
    "                    ,'Lineitem quantity':'Quantity', 'Lineitem fulfillment status':'FulfillmentStatus',\n",
    "                    'Billing City':'City', 'Financial Status':'FinancialStatus', 'Discount Amount':'DiscountAmount',\n",
    "                     'Payment Method':'PaymentMethod', 'Risk Level':'RiskLevel'\n",
    "                    }, inplace = True)"
   ]
  },
  {
   "cell_type": "code",
   "execution_count": 232,
   "id": "metric-capitol",
   "metadata": {},
   "outputs": [
    {
     "data": {
      "text/html": [
       "<div>\n",
       "<style scoped>\n",
       "    .dataframe tbody tr th:only-of-type {\n",
       "        vertical-align: middle;\n",
       "    }\n",
       "\n",
       "    .dataframe tbody tr th {\n",
       "        vertical-align: top;\n",
       "    }\n",
       "\n",
       "    .dataframe thead th {\n",
       "        text-align: right;\n",
       "    }\n",
       "</style>\n",
       "<table border=\"1\" class=\"dataframe\">\n",
       "  <thead>\n",
       "    <tr style=\"text-align: right;\">\n",
       "      <th></th>\n",
       "      <th>OrderId</th>\n",
       "      <th>FinancialStatus</th>\n",
       "      <th>Date</th>\n",
       "      <th>Total</th>\n",
       "      <th>DiscountAmount</th>\n",
       "      <th>Quantity</th>\n",
       "      <th>ProductName</th>\n",
       "      <th>Price</th>\n",
       "      <th>FulfillmentStatus</th>\n",
       "      <th>CustomerName</th>\n",
       "      <th>City</th>\n",
       "      <th>PaymentMethod</th>\n",
       "      <th>RiskLevel</th>\n",
       "    </tr>\n",
       "  </thead>\n",
       "  <tbody>\n",
       "    <tr>\n",
       "      <th>0</th>\n",
       "      <td>PT207241</td>\n",
       "      <td>paid</td>\n",
       "      <td>2022-04-19 23:59:18 +0530</td>\n",
       "      <td>939.0</td>\n",
       "      <td>2061.0</td>\n",
       "      <td>1</td>\n",
       "      <td>pTron Fusion 10W Bluetooth 5.0 Wireless Speake...</td>\n",
       "      <td>3000</td>\n",
       "      <td>fulfilled</td>\n",
       "      <td>Anil Kumar Upadhyay</td>\n",
       "      <td>Lucknow</td>\n",
       "      <td>CRED</td>\n",
       "      <td>Low</td>\n",
       "    </tr>\n",
       "    <tr>\n",
       "      <th>1</th>\n",
       "      <td>PT207240</td>\n",
       "      <td>paid</td>\n",
       "      <td>2022-04-19 23:48:24 +0530</td>\n",
       "      <td>429.0</td>\n",
       "      <td>811.0</td>\n",
       "      <td>1</td>\n",
       "      <td>pTron Bassfest Plus Magnetic in-Ear Bluetooth ...</td>\n",
       "      <td>1240</td>\n",
       "      <td>fulfilled</td>\n",
       "      <td>Mukesh Muddhineni</td>\n",
       "      <td>Hyderabad</td>\n",
       "      <td>CRED</td>\n",
       "      <td>Low</td>\n",
       "    </tr>\n",
       "    <tr>\n",
       "      <th>2</th>\n",
       "      <td>PT207239</td>\n",
       "      <td>paid</td>\n",
       "      <td>2022-04-19 23:32:22 +0530</td>\n",
       "      <td>319.0</td>\n",
       "      <td>1581.0</td>\n",
       "      <td>1</td>\n",
       "      <td>pTron Boom Ultima V2 Dual Driver, in-Ear Gamin...</td>\n",
       "      <td>1900</td>\n",
       "      <td>fulfilled</td>\n",
       "      <td>Prashant Pandey</td>\n",
       "      <td>Bangalore</td>\n",
       "      <td>CRED</td>\n",
       "      <td>Low</td>\n",
       "    </tr>\n",
       "    <tr>\n",
       "      <th>3</th>\n",
       "      <td>PT207238</td>\n",
       "      <td>paid</td>\n",
       "      <td>2022-04-19 23:28:26 +0530</td>\n",
       "      <td>319.0</td>\n",
       "      <td>1581.0</td>\n",
       "      <td>1</td>\n",
       "      <td>pTron Boom Ultima V2 Dual Driver, in-Ear Gamin...</td>\n",
       "      <td>1900</td>\n",
       "      <td>fulfilled</td>\n",
       "      <td>shivaraj medipally</td>\n",
       "      <td>Warangal</td>\n",
       "      <td>CRED</td>\n",
       "      <td>Low</td>\n",
       "    </tr>\n",
       "    <tr>\n",
       "      <th>4</th>\n",
       "      <td>PT207237</td>\n",
       "      <td>paid</td>\n",
       "      <td>2022-04-19 23:27:09 +0530</td>\n",
       "      <td>1099.0</td>\n",
       "      <td>3500.0</td>\n",
       "      <td>1</td>\n",
       "      <td>pTron Basspods 992 Active Noise Cancelling (AN...</td>\n",
       "      <td>4599</td>\n",
       "      <td>fulfilled</td>\n",
       "      <td>Pankaj Parihar</td>\n",
       "      <td>Shimla</td>\n",
       "      <td>CRED</td>\n",
       "      <td>Low</td>\n",
       "    </tr>\n",
       "    <tr>\n",
       "      <th>...</th>\n",
       "      <td>...</td>\n",
       "      <td>...</td>\n",
       "      <td>...</td>\n",
       "      <td>...</td>\n",
       "      <td>...</td>\n",
       "      <td>...</td>\n",
       "      <td>...</td>\n",
       "      <td>...</td>\n",
       "      <td>...</td>\n",
       "      <td>...</td>\n",
       "      <td>...</td>\n",
       "      <td>...</td>\n",
       "      <td>...</td>\n",
       "    </tr>\n",
       "    <tr>\n",
       "      <th>195</th>\n",
       "      <td>PT207047</td>\n",
       "      <td>paid</td>\n",
       "      <td>2022-04-18 17:49:41 +0530</td>\n",
       "      <td>229.0</td>\n",
       "      <td>670.0</td>\n",
       "      <td>1</td>\n",
       "      <td>PTron Pride Evo Wired In-Ear Earphone With Mic...</td>\n",
       "      <td>899</td>\n",
       "      <td>fulfilled</td>\n",
       "      <td>Sai Manoj Kumar</td>\n",
       "      <td>Krishna</td>\n",
       "      <td>CRED</td>\n",
       "      <td>Low</td>\n",
       "    </tr>\n",
       "    <tr>\n",
       "      <th>196</th>\n",
       "      <td>PT207046</td>\n",
       "      <td>paid</td>\n",
       "      <td>2022-04-18 17:47:57 +0530</td>\n",
       "      <td>899.0</td>\n",
       "      <td>2101.0</td>\n",
       "      <td>1</td>\n",
       "      <td>pTron Fusion 10W Bluetooth 5.0 Wireless Speake...</td>\n",
       "      <td>3000</td>\n",
       "      <td>fulfilled</td>\n",
       "      <td>Vijay Natarajan</td>\n",
       "      <td>Kanchipuram</td>\n",
       "      <td>CRED</td>\n",
       "      <td>Low</td>\n",
       "    </tr>\n",
       "    <tr>\n",
       "      <th>197</th>\n",
       "      <td>PT207045</td>\n",
       "      <td>paid</td>\n",
       "      <td>2022-04-18 17:46:23 +0530</td>\n",
       "      <td>399.0</td>\n",
       "      <td>841.0</td>\n",
       "      <td>1</td>\n",
       "      <td>pTron Bassfest Plus Magnetic In-Ear Bluetooth ...</td>\n",
       "      <td>1240</td>\n",
       "      <td>fulfilled</td>\n",
       "      <td>Gurudev Maurya</td>\n",
       "      <td>Jaunpur</td>\n",
       "      <td>CRED</td>\n",
       "      <td>Low</td>\n",
       "    </tr>\n",
       "    <tr>\n",
       "      <th>198</th>\n",
       "      <td>PT207044</td>\n",
       "      <td>paid</td>\n",
       "      <td>2022-04-18 17:43:58 +0530</td>\n",
       "      <td>899.0</td>\n",
       "      <td>2101.0</td>\n",
       "      <td>1</td>\n",
       "      <td>pTron Fusion 10W Bluetooth 5.0 Wireless Speake...</td>\n",
       "      <td>3000</td>\n",
       "      <td>fulfilled</td>\n",
       "      <td>Jagdish Gupta</td>\n",
       "      <td>Ahmedabad</td>\n",
       "      <td>CRED</td>\n",
       "      <td>Low</td>\n",
       "    </tr>\n",
       "    <tr>\n",
       "      <th>199</th>\n",
       "      <td>PT207043</td>\n",
       "      <td>paid</td>\n",
       "      <td>2022-04-18 17:42:51 +0530</td>\n",
       "      <td>299.0</td>\n",
       "      <td>1601.0</td>\n",
       "      <td>1</td>\n",
       "      <td>pTron Boom Ultima V2 Dual Driver, in-Ear Gamin...</td>\n",
       "      <td>1900</td>\n",
       "      <td>fulfilled</td>\n",
       "      <td>Abhishek J</td>\n",
       "      <td>Jaipur</td>\n",
       "      <td>CRED</td>\n",
       "      <td>Low</td>\n",
       "    </tr>\n",
       "  </tbody>\n",
       "</table>\n",
       "<p>200 rows × 13 columns</p>\n",
       "</div>"
      ],
      "text/plain": [
       "      OrderId FinancialStatus                       Date   Total  \\\n",
       "0    PT207241            paid  2022-04-19 23:59:18 +0530   939.0   \n",
       "1    PT207240            paid  2022-04-19 23:48:24 +0530   429.0   \n",
       "2    PT207239            paid  2022-04-19 23:32:22 +0530   319.0   \n",
       "3    PT207238            paid  2022-04-19 23:28:26 +0530   319.0   \n",
       "4    PT207237            paid  2022-04-19 23:27:09 +0530  1099.0   \n",
       "..        ...             ...                        ...     ...   \n",
       "195  PT207047            paid  2022-04-18 17:49:41 +0530   229.0   \n",
       "196  PT207046            paid  2022-04-18 17:47:57 +0530   899.0   \n",
       "197  PT207045            paid  2022-04-18 17:46:23 +0530   399.0   \n",
       "198  PT207044            paid  2022-04-18 17:43:58 +0530   899.0   \n",
       "199  PT207043            paid  2022-04-18 17:42:51 +0530   299.0   \n",
       "\n",
       "     DiscountAmount  Quantity  \\\n",
       "0            2061.0         1   \n",
       "1             811.0         1   \n",
       "2            1581.0         1   \n",
       "3            1581.0         1   \n",
       "4            3500.0         1   \n",
       "..              ...       ...   \n",
       "195           670.0         1   \n",
       "196          2101.0         1   \n",
       "197           841.0         1   \n",
       "198          2101.0         1   \n",
       "199          1601.0         1   \n",
       "\n",
       "                                           ProductName  Price  \\\n",
       "0    pTron Fusion 10W Bluetooth 5.0 Wireless Speake...   3000   \n",
       "1    pTron Bassfest Plus Magnetic in-Ear Bluetooth ...   1240   \n",
       "2    pTron Boom Ultima V2 Dual Driver, in-Ear Gamin...   1900   \n",
       "3    pTron Boom Ultima V2 Dual Driver, in-Ear Gamin...   1900   \n",
       "4    pTron Basspods 992 Active Noise Cancelling (AN...   4599   \n",
       "..                                                 ...    ...   \n",
       "195  PTron Pride Evo Wired In-Ear Earphone With Mic...    899   \n",
       "196  pTron Fusion 10W Bluetooth 5.0 Wireless Speake...   3000   \n",
       "197  pTron Bassfest Plus Magnetic In-Ear Bluetooth ...   1240   \n",
       "198  pTron Fusion 10W Bluetooth 5.0 Wireless Speake...   3000   \n",
       "199  pTron Boom Ultima V2 Dual Driver, in-Ear Gamin...   1900   \n",
       "\n",
       "    FulfillmentStatus         CustomerName         City PaymentMethod  \\\n",
       "0           fulfilled  Anil Kumar Upadhyay      Lucknow          CRED   \n",
       "1           fulfilled    Mukesh Muddhineni    Hyderabad          CRED   \n",
       "2           fulfilled      Prashant Pandey    Bangalore          CRED   \n",
       "3           fulfilled   shivaraj medipally     Warangal          CRED   \n",
       "4           fulfilled       Pankaj Parihar       Shimla          CRED   \n",
       "..                ...                  ...          ...           ...   \n",
       "195         fulfilled      Sai Manoj Kumar      Krishna          CRED   \n",
       "196         fulfilled      Vijay Natarajan  Kanchipuram          CRED   \n",
       "197         fulfilled       Gurudev Maurya      Jaunpur          CRED   \n",
       "198         fulfilled        Jagdish Gupta    Ahmedabad          CRED   \n",
       "199         fulfilled           Abhishek J       Jaipur          CRED   \n",
       "\n",
       "    RiskLevel  \n",
       "0         Low  \n",
       "1         Low  \n",
       "2         Low  \n",
       "3         Low  \n",
       "4         Low  \n",
       "..        ...  \n",
       "195       Low  \n",
       "196       Low  \n",
       "197       Low  \n",
       "198       Low  \n",
       "199       Low  \n",
       "\n",
       "[200 rows x 13 columns]"
      ]
     },
     "execution_count": 232,
     "metadata": {},
     "output_type": "execute_result"
    }
   ],
   "source": [
    "df"
   ]
  },
  {
   "cell_type": "code",
   "execution_count": 233,
   "id": "coupled-prison",
   "metadata": {},
   "outputs": [
    {
     "data": {
      "text/html": [
       "<div>\n",
       "<style scoped>\n",
       "    .dataframe tbody tr th:only-of-type {\n",
       "        vertical-align: middle;\n",
       "    }\n",
       "\n",
       "    .dataframe tbody tr th {\n",
       "        vertical-align: top;\n",
       "    }\n",
       "\n",
       "    .dataframe thead th {\n",
       "        text-align: right;\n",
       "    }\n",
       "</style>\n",
       "<table border=\"1\" class=\"dataframe\">\n",
       "  <thead>\n",
       "    <tr style=\"text-align: right;\">\n",
       "      <th></th>\n",
       "      <th>OrderId</th>\n",
       "      <th>FinancialStatus</th>\n",
       "      <th>Date</th>\n",
       "      <th>Total</th>\n",
       "      <th>DiscountAmount</th>\n",
       "      <th>Quantity</th>\n",
       "      <th>ProductName</th>\n",
       "      <th>Price</th>\n",
       "      <th>FulfillmentStatus</th>\n",
       "      <th>CustomerName</th>\n",
       "      <th>City</th>\n",
       "      <th>PaymentMethod</th>\n",
       "      <th>RiskLevel</th>\n",
       "    </tr>\n",
       "  </thead>\n",
       "  <tbody>\n",
       "    <tr>\n",
       "      <th>0</th>\n",
       "      <td>PT207241</td>\n",
       "      <td>paid</td>\n",
       "      <td>2022-04-19 23:59:18+05:30</td>\n",
       "      <td>939.0</td>\n",
       "      <td>2061.0</td>\n",
       "      <td>1</td>\n",
       "      <td>pTron Fusion 10W Bluetooth 5.0 Wireless Speake...</td>\n",
       "      <td>3000</td>\n",
       "      <td>fulfilled</td>\n",
       "      <td>Anil Kumar Upadhyay</td>\n",
       "      <td>Lucknow</td>\n",
       "      <td>CRED</td>\n",
       "      <td>Low</td>\n",
       "    </tr>\n",
       "    <tr>\n",
       "      <th>1</th>\n",
       "      <td>PT207240</td>\n",
       "      <td>paid</td>\n",
       "      <td>2022-04-19 23:48:24+05:30</td>\n",
       "      <td>429.0</td>\n",
       "      <td>811.0</td>\n",
       "      <td>1</td>\n",
       "      <td>pTron Bassfest Plus Magnetic in-Ear Bluetooth ...</td>\n",
       "      <td>1240</td>\n",
       "      <td>fulfilled</td>\n",
       "      <td>Mukesh Muddhineni</td>\n",
       "      <td>Hyderabad</td>\n",
       "      <td>CRED</td>\n",
       "      <td>Low</td>\n",
       "    </tr>\n",
       "    <tr>\n",
       "      <th>2</th>\n",
       "      <td>PT207239</td>\n",
       "      <td>paid</td>\n",
       "      <td>2022-04-19 23:32:22+05:30</td>\n",
       "      <td>319.0</td>\n",
       "      <td>1581.0</td>\n",
       "      <td>1</td>\n",
       "      <td>pTron Boom Ultima V2 Dual Driver, in-Ear Gamin...</td>\n",
       "      <td>1900</td>\n",
       "      <td>fulfilled</td>\n",
       "      <td>Prashant Pandey</td>\n",
       "      <td>Bangalore</td>\n",
       "      <td>CRED</td>\n",
       "      <td>Low</td>\n",
       "    </tr>\n",
       "    <tr>\n",
       "      <th>3</th>\n",
       "      <td>PT207238</td>\n",
       "      <td>paid</td>\n",
       "      <td>2022-04-19 23:28:26+05:30</td>\n",
       "      <td>319.0</td>\n",
       "      <td>1581.0</td>\n",
       "      <td>1</td>\n",
       "      <td>pTron Boom Ultima V2 Dual Driver, in-Ear Gamin...</td>\n",
       "      <td>1900</td>\n",
       "      <td>fulfilled</td>\n",
       "      <td>shivaraj medipally</td>\n",
       "      <td>Warangal</td>\n",
       "      <td>CRED</td>\n",
       "      <td>Low</td>\n",
       "    </tr>\n",
       "    <tr>\n",
       "      <th>4</th>\n",
       "      <td>PT207237</td>\n",
       "      <td>paid</td>\n",
       "      <td>2022-04-19 23:27:09+05:30</td>\n",
       "      <td>1099.0</td>\n",
       "      <td>3500.0</td>\n",
       "      <td>1</td>\n",
       "      <td>pTron Basspods 992 Active Noise Cancelling (AN...</td>\n",
       "      <td>4599</td>\n",
       "      <td>fulfilled</td>\n",
       "      <td>Pankaj Parihar</td>\n",
       "      <td>Shimla</td>\n",
       "      <td>CRED</td>\n",
       "      <td>Low</td>\n",
       "    </tr>\n",
       "    <tr>\n",
       "      <th>...</th>\n",
       "      <td>...</td>\n",
       "      <td>...</td>\n",
       "      <td>...</td>\n",
       "      <td>...</td>\n",
       "      <td>...</td>\n",
       "      <td>...</td>\n",
       "      <td>...</td>\n",
       "      <td>...</td>\n",
       "      <td>...</td>\n",
       "      <td>...</td>\n",
       "      <td>...</td>\n",
       "      <td>...</td>\n",
       "      <td>...</td>\n",
       "    </tr>\n",
       "    <tr>\n",
       "      <th>195</th>\n",
       "      <td>PT207047</td>\n",
       "      <td>paid</td>\n",
       "      <td>2022-04-18 17:49:41+05:30</td>\n",
       "      <td>229.0</td>\n",
       "      <td>670.0</td>\n",
       "      <td>1</td>\n",
       "      <td>PTron Pride Evo Wired In-Ear Earphone With Mic...</td>\n",
       "      <td>899</td>\n",
       "      <td>fulfilled</td>\n",
       "      <td>Sai Manoj Kumar</td>\n",
       "      <td>Krishna</td>\n",
       "      <td>CRED</td>\n",
       "      <td>Low</td>\n",
       "    </tr>\n",
       "    <tr>\n",
       "      <th>196</th>\n",
       "      <td>PT207046</td>\n",
       "      <td>paid</td>\n",
       "      <td>2022-04-18 17:47:57+05:30</td>\n",
       "      <td>899.0</td>\n",
       "      <td>2101.0</td>\n",
       "      <td>1</td>\n",
       "      <td>pTron Fusion 10W Bluetooth 5.0 Wireless Speake...</td>\n",
       "      <td>3000</td>\n",
       "      <td>fulfilled</td>\n",
       "      <td>Vijay Natarajan</td>\n",
       "      <td>Kanchipuram</td>\n",
       "      <td>CRED</td>\n",
       "      <td>Low</td>\n",
       "    </tr>\n",
       "    <tr>\n",
       "      <th>197</th>\n",
       "      <td>PT207045</td>\n",
       "      <td>paid</td>\n",
       "      <td>2022-04-18 17:46:23+05:30</td>\n",
       "      <td>399.0</td>\n",
       "      <td>841.0</td>\n",
       "      <td>1</td>\n",
       "      <td>pTron Bassfest Plus Magnetic In-Ear Bluetooth ...</td>\n",
       "      <td>1240</td>\n",
       "      <td>fulfilled</td>\n",
       "      <td>Gurudev Maurya</td>\n",
       "      <td>Jaunpur</td>\n",
       "      <td>CRED</td>\n",
       "      <td>Low</td>\n",
       "    </tr>\n",
       "    <tr>\n",
       "      <th>198</th>\n",
       "      <td>PT207044</td>\n",
       "      <td>paid</td>\n",
       "      <td>2022-04-18 17:43:58+05:30</td>\n",
       "      <td>899.0</td>\n",
       "      <td>2101.0</td>\n",
       "      <td>1</td>\n",
       "      <td>pTron Fusion 10W Bluetooth 5.0 Wireless Speake...</td>\n",
       "      <td>3000</td>\n",
       "      <td>fulfilled</td>\n",
       "      <td>Jagdish Gupta</td>\n",
       "      <td>Ahmedabad</td>\n",
       "      <td>CRED</td>\n",
       "      <td>Low</td>\n",
       "    </tr>\n",
       "    <tr>\n",
       "      <th>199</th>\n",
       "      <td>PT207043</td>\n",
       "      <td>paid</td>\n",
       "      <td>2022-04-18 17:42:51+05:30</td>\n",
       "      <td>299.0</td>\n",
       "      <td>1601.0</td>\n",
       "      <td>1</td>\n",
       "      <td>pTron Boom Ultima V2 Dual Driver, in-Ear Gamin...</td>\n",
       "      <td>1900</td>\n",
       "      <td>fulfilled</td>\n",
       "      <td>Abhishek J</td>\n",
       "      <td>Jaipur</td>\n",
       "      <td>CRED</td>\n",
       "      <td>Low</td>\n",
       "    </tr>\n",
       "  </tbody>\n",
       "</table>\n",
       "<p>200 rows × 13 columns</p>\n",
       "</div>"
      ],
      "text/plain": [
       "      OrderId FinancialStatus                      Date   Total  \\\n",
       "0    PT207241            paid 2022-04-19 23:59:18+05:30   939.0   \n",
       "1    PT207240            paid 2022-04-19 23:48:24+05:30   429.0   \n",
       "2    PT207239            paid 2022-04-19 23:32:22+05:30   319.0   \n",
       "3    PT207238            paid 2022-04-19 23:28:26+05:30   319.0   \n",
       "4    PT207237            paid 2022-04-19 23:27:09+05:30  1099.0   \n",
       "..        ...             ...                       ...     ...   \n",
       "195  PT207047            paid 2022-04-18 17:49:41+05:30   229.0   \n",
       "196  PT207046            paid 2022-04-18 17:47:57+05:30   899.0   \n",
       "197  PT207045            paid 2022-04-18 17:46:23+05:30   399.0   \n",
       "198  PT207044            paid 2022-04-18 17:43:58+05:30   899.0   \n",
       "199  PT207043            paid 2022-04-18 17:42:51+05:30   299.0   \n",
       "\n",
       "     DiscountAmount  Quantity  \\\n",
       "0            2061.0         1   \n",
       "1             811.0         1   \n",
       "2            1581.0         1   \n",
       "3            1581.0         1   \n",
       "4            3500.0         1   \n",
       "..              ...       ...   \n",
       "195           670.0         1   \n",
       "196          2101.0         1   \n",
       "197           841.0         1   \n",
       "198          2101.0         1   \n",
       "199          1601.0         1   \n",
       "\n",
       "                                           ProductName  Price  \\\n",
       "0    pTron Fusion 10W Bluetooth 5.0 Wireless Speake...   3000   \n",
       "1    pTron Bassfest Plus Magnetic in-Ear Bluetooth ...   1240   \n",
       "2    pTron Boom Ultima V2 Dual Driver, in-Ear Gamin...   1900   \n",
       "3    pTron Boom Ultima V2 Dual Driver, in-Ear Gamin...   1900   \n",
       "4    pTron Basspods 992 Active Noise Cancelling (AN...   4599   \n",
       "..                                                 ...    ...   \n",
       "195  PTron Pride Evo Wired In-Ear Earphone With Mic...    899   \n",
       "196  pTron Fusion 10W Bluetooth 5.0 Wireless Speake...   3000   \n",
       "197  pTron Bassfest Plus Magnetic In-Ear Bluetooth ...   1240   \n",
       "198  pTron Fusion 10W Bluetooth 5.0 Wireless Speake...   3000   \n",
       "199  pTron Boom Ultima V2 Dual Driver, in-Ear Gamin...   1900   \n",
       "\n",
       "    FulfillmentStatus         CustomerName         City PaymentMethod  \\\n",
       "0           fulfilled  Anil Kumar Upadhyay      Lucknow          CRED   \n",
       "1           fulfilled    Mukesh Muddhineni    Hyderabad          CRED   \n",
       "2           fulfilled      Prashant Pandey    Bangalore          CRED   \n",
       "3           fulfilled   shivaraj medipally     Warangal          CRED   \n",
       "4           fulfilled       Pankaj Parihar       Shimla          CRED   \n",
       "..                ...                  ...          ...           ...   \n",
       "195         fulfilled      Sai Manoj Kumar      Krishna          CRED   \n",
       "196         fulfilled      Vijay Natarajan  Kanchipuram          CRED   \n",
       "197         fulfilled       Gurudev Maurya      Jaunpur          CRED   \n",
       "198         fulfilled        Jagdish Gupta    Ahmedabad          CRED   \n",
       "199         fulfilled           Abhishek J       Jaipur          CRED   \n",
       "\n",
       "    RiskLevel  \n",
       "0         Low  \n",
       "1         Low  \n",
       "2         Low  \n",
       "3         Low  \n",
       "4         Low  \n",
       "..        ...  \n",
       "195       Low  \n",
       "196       Low  \n",
       "197       Low  \n",
       "198       Low  \n",
       "199       Low  \n",
       "\n",
       "[200 rows x 13 columns]"
      ]
     },
     "execution_count": 233,
     "metadata": {},
     "output_type": "execute_result"
    }
   ],
   "source": [
    "df['Date'] = pd.to_datetime(df['Date'])\n",
    "df"
   ]
  },
  {
   "cell_type": "code",
   "execution_count": 234,
   "id": "younger-romance",
   "metadata": {},
   "outputs": [
    {
     "name": "stdout",
     "output_type": "stream",
     "text": [
      "<class 'pandas.core.frame.DataFrame'>\n",
      "RangeIndex: 200 entries, 0 to 199\n",
      "Data columns (total 13 columns):\n",
      " #   Column             Non-Null Count  Dtype                                \n",
      "---  ------             --------------  -----                                \n",
      " 0   OrderId            200 non-null    object                               \n",
      " 1   FinancialStatus    199 non-null    object                               \n",
      " 2   Date               199 non-null    datetime64[ns, pytz.FixedOffset(330)]\n",
      " 3   Total              199 non-null    float64                              \n",
      " 4   DiscountAmount     199 non-null    float64                              \n",
      " 5   Quantity           200 non-null    int64                                \n",
      " 6   ProductName        200 non-null    object                               \n",
      " 7   Price              200 non-null    int64                                \n",
      " 8   FulfillmentStatus  200 non-null    object                               \n",
      " 9   CustomerName       199 non-null    object                               \n",
      " 10  City               199 non-null    object                               \n",
      " 11  PaymentMethod      199 non-null    object                               \n",
      " 12  RiskLevel          199 non-null    object                               \n",
      "dtypes: datetime64[ns, pytz.FixedOffset(330)](1), float64(2), int64(2), object(8)\n",
      "memory usage: 20.4+ KB\n"
     ]
    }
   ],
   "source": [
    "df.info()"
   ]
  },
  {
   "cell_type": "code",
   "execution_count": 235,
   "id": "acting-worship",
   "metadata": {},
   "outputs": [
    {
     "data": {
      "text/plain": [
       "OrderId              0\n",
       "FinancialStatus      1\n",
       "Date                 1\n",
       "Total                1\n",
       "DiscountAmount       1\n",
       "Quantity             0\n",
       "ProductName          0\n",
       "Price                0\n",
       "FulfillmentStatus    0\n",
       "CustomerName         1\n",
       "City                 1\n",
       "PaymentMethod        1\n",
       "RiskLevel            1\n",
       "dtype: int64"
      ]
     },
     "execution_count": 235,
     "metadata": {},
     "output_type": "execute_result"
    }
   ],
   "source": [
    "df.isnull().sum()"
   ]
  },
  {
   "cell_type": "code",
   "execution_count": 236,
   "id": "balanced-illinois",
   "metadata": {},
   "outputs": [],
   "source": [
    "df = df.dropna()"
   ]
  },
  {
   "cell_type": "code",
   "execution_count": 237,
   "id": "resident-stuff",
   "metadata": {},
   "outputs": [
    {
     "data": {
      "text/plain": [
       "OrderId              0\n",
       "FinancialStatus      0\n",
       "Date                 0\n",
       "Total                0\n",
       "DiscountAmount       0\n",
       "Quantity             0\n",
       "ProductName          0\n",
       "Price                0\n",
       "FulfillmentStatus    0\n",
       "CustomerName         0\n",
       "City                 0\n",
       "PaymentMethod        0\n",
       "RiskLevel            0\n",
       "dtype: int64"
      ]
     },
     "execution_count": 237,
     "metadata": {},
     "output_type": "execute_result"
    }
   ],
   "source": [
    "df.isnull().sum()"
   ]
  },
  {
   "cell_type": "code",
   "execution_count": 238,
   "id": "tested-burst",
   "metadata": {},
   "outputs": [
    {
     "data": {
      "text/html": [
       "<div>\n",
       "<style scoped>\n",
       "    .dataframe tbody tr th:only-of-type {\n",
       "        vertical-align: middle;\n",
       "    }\n",
       "\n",
       "    .dataframe tbody tr th {\n",
       "        vertical-align: top;\n",
       "    }\n",
       "\n",
       "    .dataframe thead th {\n",
       "        text-align: right;\n",
       "    }\n",
       "</style>\n",
       "<table border=\"1\" class=\"dataframe\">\n",
       "  <thead>\n",
       "    <tr style=\"text-align: right;\">\n",
       "      <th></th>\n",
       "      <th>OrderId</th>\n",
       "      <th>FinancialStatus</th>\n",
       "      <th>Date</th>\n",
       "      <th>Total</th>\n",
       "      <th>DiscountAmount</th>\n",
       "      <th>Quantity</th>\n",
       "      <th>ProductName</th>\n",
       "      <th>Price</th>\n",
       "      <th>FulfillmentStatus</th>\n",
       "      <th>CustomerName</th>\n",
       "      <th>City</th>\n",
       "      <th>PaymentMethod</th>\n",
       "      <th>RiskLevel</th>\n",
       "    </tr>\n",
       "  </thead>\n",
       "  <tbody>\n",
       "    <tr>\n",
       "      <th>0</th>\n",
       "      <td>PT207241</td>\n",
       "      <td>paid</td>\n",
       "      <td>2022-04-19 23:59:18+05:30</td>\n",
       "      <td>939.0</td>\n",
       "      <td>2061.0</td>\n",
       "      <td>1</td>\n",
       "      <td>pTron Fusion 10W Bluetooth 5.0 Wireless Speake...</td>\n",
       "      <td>3000</td>\n",
       "      <td>fulfilled</td>\n",
       "      <td>Anil Kumar Upadhyay</td>\n",
       "      <td>Lucknow</td>\n",
       "      <td>CRED</td>\n",
       "      <td>Low</td>\n",
       "    </tr>\n",
       "    <tr>\n",
       "      <th>1</th>\n",
       "      <td>PT207240</td>\n",
       "      <td>paid</td>\n",
       "      <td>2022-04-19 23:48:24+05:30</td>\n",
       "      <td>429.0</td>\n",
       "      <td>811.0</td>\n",
       "      <td>1</td>\n",
       "      <td>pTron Bassfest Plus Magnetic in-Ear Bluetooth ...</td>\n",
       "      <td>1240</td>\n",
       "      <td>fulfilled</td>\n",
       "      <td>Mukesh Muddhineni</td>\n",
       "      <td>Hyderabad</td>\n",
       "      <td>CRED</td>\n",
       "      <td>Low</td>\n",
       "    </tr>\n",
       "    <tr>\n",
       "      <th>2</th>\n",
       "      <td>PT207239</td>\n",
       "      <td>paid</td>\n",
       "      <td>2022-04-19 23:32:22+05:30</td>\n",
       "      <td>319.0</td>\n",
       "      <td>1581.0</td>\n",
       "      <td>1</td>\n",
       "      <td>pTron Boom Ultima V2 Dual Driver, in-Ear Gamin...</td>\n",
       "      <td>1900</td>\n",
       "      <td>fulfilled</td>\n",
       "      <td>Prashant Pandey</td>\n",
       "      <td>Bangalore</td>\n",
       "      <td>CRED</td>\n",
       "      <td>Low</td>\n",
       "    </tr>\n",
       "    <tr>\n",
       "      <th>3</th>\n",
       "      <td>PT207238</td>\n",
       "      <td>paid</td>\n",
       "      <td>2022-04-19 23:28:26+05:30</td>\n",
       "      <td>319.0</td>\n",
       "      <td>1581.0</td>\n",
       "      <td>1</td>\n",
       "      <td>pTron Boom Ultima V2 Dual Driver, in-Ear Gamin...</td>\n",
       "      <td>1900</td>\n",
       "      <td>fulfilled</td>\n",
       "      <td>shivaraj medipally</td>\n",
       "      <td>Warangal</td>\n",
       "      <td>CRED</td>\n",
       "      <td>Low</td>\n",
       "    </tr>\n",
       "    <tr>\n",
       "      <th>4</th>\n",
       "      <td>PT207237</td>\n",
       "      <td>paid</td>\n",
       "      <td>2022-04-19 23:27:09+05:30</td>\n",
       "      <td>1099.0</td>\n",
       "      <td>3500.0</td>\n",
       "      <td>1</td>\n",
       "      <td>pTron Basspods 992 Active Noise Cancelling (AN...</td>\n",
       "      <td>4599</td>\n",
       "      <td>fulfilled</td>\n",
       "      <td>Pankaj Parihar</td>\n",
       "      <td>Shimla</td>\n",
       "      <td>CRED</td>\n",
       "      <td>Low</td>\n",
       "    </tr>\n",
       "    <tr>\n",
       "      <th>...</th>\n",
       "      <td>...</td>\n",
       "      <td>...</td>\n",
       "      <td>...</td>\n",
       "      <td>...</td>\n",
       "      <td>...</td>\n",
       "      <td>...</td>\n",
       "      <td>...</td>\n",
       "      <td>...</td>\n",
       "      <td>...</td>\n",
       "      <td>...</td>\n",
       "      <td>...</td>\n",
       "      <td>...</td>\n",
       "      <td>...</td>\n",
       "    </tr>\n",
       "    <tr>\n",
       "      <th>195</th>\n",
       "      <td>PT207047</td>\n",
       "      <td>paid</td>\n",
       "      <td>2022-04-18 17:49:41+05:30</td>\n",
       "      <td>229.0</td>\n",
       "      <td>670.0</td>\n",
       "      <td>1</td>\n",
       "      <td>PTron Pride Evo Wired In-Ear Earphone With Mic...</td>\n",
       "      <td>899</td>\n",
       "      <td>fulfilled</td>\n",
       "      <td>Sai Manoj Kumar</td>\n",
       "      <td>Krishna</td>\n",
       "      <td>CRED</td>\n",
       "      <td>Low</td>\n",
       "    </tr>\n",
       "    <tr>\n",
       "      <th>196</th>\n",
       "      <td>PT207046</td>\n",
       "      <td>paid</td>\n",
       "      <td>2022-04-18 17:47:57+05:30</td>\n",
       "      <td>899.0</td>\n",
       "      <td>2101.0</td>\n",
       "      <td>1</td>\n",
       "      <td>pTron Fusion 10W Bluetooth 5.0 Wireless Speake...</td>\n",
       "      <td>3000</td>\n",
       "      <td>fulfilled</td>\n",
       "      <td>Vijay Natarajan</td>\n",
       "      <td>Kanchipuram</td>\n",
       "      <td>CRED</td>\n",
       "      <td>Low</td>\n",
       "    </tr>\n",
       "    <tr>\n",
       "      <th>197</th>\n",
       "      <td>PT207045</td>\n",
       "      <td>paid</td>\n",
       "      <td>2022-04-18 17:46:23+05:30</td>\n",
       "      <td>399.0</td>\n",
       "      <td>841.0</td>\n",
       "      <td>1</td>\n",
       "      <td>pTron Bassfest Plus Magnetic In-Ear Bluetooth ...</td>\n",
       "      <td>1240</td>\n",
       "      <td>fulfilled</td>\n",
       "      <td>Gurudev Maurya</td>\n",
       "      <td>Jaunpur</td>\n",
       "      <td>CRED</td>\n",
       "      <td>Low</td>\n",
       "    </tr>\n",
       "    <tr>\n",
       "      <th>198</th>\n",
       "      <td>PT207044</td>\n",
       "      <td>paid</td>\n",
       "      <td>2022-04-18 17:43:58+05:30</td>\n",
       "      <td>899.0</td>\n",
       "      <td>2101.0</td>\n",
       "      <td>1</td>\n",
       "      <td>pTron Fusion 10W Bluetooth 5.0 Wireless Speake...</td>\n",
       "      <td>3000</td>\n",
       "      <td>fulfilled</td>\n",
       "      <td>Jagdish Gupta</td>\n",
       "      <td>Ahmedabad</td>\n",
       "      <td>CRED</td>\n",
       "      <td>Low</td>\n",
       "    </tr>\n",
       "    <tr>\n",
       "      <th>199</th>\n",
       "      <td>PT207043</td>\n",
       "      <td>paid</td>\n",
       "      <td>2022-04-18 17:42:51+05:30</td>\n",
       "      <td>299.0</td>\n",
       "      <td>1601.0</td>\n",
       "      <td>1</td>\n",
       "      <td>pTron Boom Ultima V2 Dual Driver, in-Ear Gamin...</td>\n",
       "      <td>1900</td>\n",
       "      <td>fulfilled</td>\n",
       "      <td>Abhishek J</td>\n",
       "      <td>Jaipur</td>\n",
       "      <td>CRED</td>\n",
       "      <td>Low</td>\n",
       "    </tr>\n",
       "  </tbody>\n",
       "</table>\n",
       "<p>199 rows × 13 columns</p>\n",
       "</div>"
      ],
      "text/plain": [
       "      OrderId FinancialStatus                      Date   Total  \\\n",
       "0    PT207241            paid 2022-04-19 23:59:18+05:30   939.0   \n",
       "1    PT207240            paid 2022-04-19 23:48:24+05:30   429.0   \n",
       "2    PT207239            paid 2022-04-19 23:32:22+05:30   319.0   \n",
       "3    PT207238            paid 2022-04-19 23:28:26+05:30   319.0   \n",
       "4    PT207237            paid 2022-04-19 23:27:09+05:30  1099.0   \n",
       "..        ...             ...                       ...     ...   \n",
       "195  PT207047            paid 2022-04-18 17:49:41+05:30   229.0   \n",
       "196  PT207046            paid 2022-04-18 17:47:57+05:30   899.0   \n",
       "197  PT207045            paid 2022-04-18 17:46:23+05:30   399.0   \n",
       "198  PT207044            paid 2022-04-18 17:43:58+05:30   899.0   \n",
       "199  PT207043            paid 2022-04-18 17:42:51+05:30   299.0   \n",
       "\n",
       "     DiscountAmount  Quantity  \\\n",
       "0            2061.0         1   \n",
       "1             811.0         1   \n",
       "2            1581.0         1   \n",
       "3            1581.0         1   \n",
       "4            3500.0         1   \n",
       "..              ...       ...   \n",
       "195           670.0         1   \n",
       "196          2101.0         1   \n",
       "197           841.0         1   \n",
       "198          2101.0         1   \n",
       "199          1601.0         1   \n",
       "\n",
       "                                           ProductName  Price  \\\n",
       "0    pTron Fusion 10W Bluetooth 5.0 Wireless Speake...   3000   \n",
       "1    pTron Bassfest Plus Magnetic in-Ear Bluetooth ...   1240   \n",
       "2    pTron Boom Ultima V2 Dual Driver, in-Ear Gamin...   1900   \n",
       "3    pTron Boom Ultima V2 Dual Driver, in-Ear Gamin...   1900   \n",
       "4    pTron Basspods 992 Active Noise Cancelling (AN...   4599   \n",
       "..                                                 ...    ...   \n",
       "195  PTron Pride Evo Wired In-Ear Earphone With Mic...    899   \n",
       "196  pTron Fusion 10W Bluetooth 5.0 Wireless Speake...   3000   \n",
       "197  pTron Bassfest Plus Magnetic In-Ear Bluetooth ...   1240   \n",
       "198  pTron Fusion 10W Bluetooth 5.0 Wireless Speake...   3000   \n",
       "199  pTron Boom Ultima V2 Dual Driver, in-Ear Gamin...   1900   \n",
       "\n",
       "    FulfillmentStatus         CustomerName         City PaymentMethod  \\\n",
       "0           fulfilled  Anil Kumar Upadhyay      Lucknow          CRED   \n",
       "1           fulfilled    Mukesh Muddhineni    Hyderabad          CRED   \n",
       "2           fulfilled      Prashant Pandey    Bangalore          CRED   \n",
       "3           fulfilled   shivaraj medipally     Warangal          CRED   \n",
       "4           fulfilled       Pankaj Parihar       Shimla          CRED   \n",
       "..                ...                  ...          ...           ...   \n",
       "195         fulfilled      Sai Manoj Kumar      Krishna          CRED   \n",
       "196         fulfilled      Vijay Natarajan  Kanchipuram          CRED   \n",
       "197         fulfilled       Gurudev Maurya      Jaunpur          CRED   \n",
       "198         fulfilled        Jagdish Gupta    Ahmedabad          CRED   \n",
       "199         fulfilled           Abhishek J       Jaipur          CRED   \n",
       "\n",
       "    RiskLevel  \n",
       "0         Low  \n",
       "1         Low  \n",
       "2         Low  \n",
       "3         Low  \n",
       "4         Low  \n",
       "..        ...  \n",
       "195       Low  \n",
       "196       Low  \n",
       "197       Low  \n",
       "198       Low  \n",
       "199       Low  \n",
       "\n",
       "[199 rows x 13 columns]"
      ]
     },
     "execution_count": 238,
     "metadata": {},
     "output_type": "execute_result"
    }
   ],
   "source": [
    "df"
   ]
  },
  {
   "cell_type": "code",
   "execution_count": 239,
   "id": "adjacent-horror",
   "metadata": {},
   "outputs": [],
   "source": [
    "df.to_csv('processed_orders.csv')"
   ]
  },
  {
   "cell_type": "code",
   "execution_count": 240,
   "id": "narrative-projector",
   "metadata": {},
   "outputs": [],
   "source": [
    "df.to_parquet('preprocessed_ecommerce.parquet')"
   ]
  },
  {
   "cell_type": "code",
   "execution_count": 380,
   "id": "certified-colon",
   "metadata": {},
   "outputs": [],
   "source": [
    "ip=\"44.203.203.126\"\n",
    "port=\"7474\"\n",
    "pwd=\"jackets-housings-compromises\"\n",
    "graph = Graph(\"bolt://44.203.203.126:7687\", auth=(\"neo4j\", pwd))"
   ]
  },
  {
   "cell_type": "code",
   "execution_count": 381,
   "id": "silver-hepatitis",
   "metadata": {},
   "outputs": [],
   "source": [
    "UPLOAD_DATA = True\n",
    "\n",
    "def run_request(request,UPLOAD_DATA):\n",
    "    if (UPLOAD_DATA):\n",
    "        start_time = time.time()\n",
    "        print(graph.run(request)) \n",
    "        exec_time = time.time() - start_time\n",
    "        print(f'-- {exec_time} seconds --')"
   ]
  },
  {
   "cell_type": "code",
   "execution_count": 385,
   "id": "copyrighted-impossible",
   "metadata": {},
   "outputs": [
    {
     "name": "stdout",
     "output_type": "stream",
     "text": [
      "(No data)\n",
      "-- 2.2982046604156494 seconds --\n"
     ]
    }
   ],
   "source": [
    "#request_delete =\"\"\"\n",
    "#MATCH (n) DETACH DELETE n;\"\"\"\n",
    "#run_request(request_delete,UPLOAD_DATA)"
   ]
  },
  {
   "cell_type": "code",
   "execution_count": 386,
   "id": "unlikely-monte",
   "metadata": {},
   "outputs": [
    {
     "data": {
      "text/plain": [
       "Index(['OrderId', 'FinancialStatus', 'Date', 'Total', 'DiscountAmount',\n",
       "       'Quantity', 'ProductName', 'Price', 'FulfillmentStatus', 'CustomerName',\n",
       "       'City', 'PaymentMethod', 'RiskLevel'],\n",
       "      dtype='object')"
      ]
     },
     "execution_count": 386,
     "metadata": {},
     "output_type": "execute_result"
    }
   ],
   "source": [
    "df.keys()"
   ]
  },
  {
   "cell_type": "code",
   "execution_count": 388,
   "id": "integrated-small",
   "metadata": {},
   "outputs": [
    {
     "name": "stdout",
     "output_type": "stream",
     "text": [
      "199/199 done ... -- 23.62553381919861 seconds --\n",
      " ... End ... -- 23.34676742553711 seconds --\n"
     ]
    }
   ],
   "source": [
    "request ='''\n",
    "CREATE (o:Order {id:$OrderId ,product: $ProductName})\n",
    "SET \n",
    "o.FinancialStatus = $FinancialStatus,\n",
    "o.Date = $Date, \n",
    "o.Total = $Total,\n",
    "o.DiscountAmount=$DiscountAmount,\n",
    "o.OrderId=$OrderId,\n",
    "o.Quantity = $Quantity,\n",
    "o.ProductName = $ProductName,\n",
    "o.Price = $Price, \n",
    "o.FulfillmentStatus = $FulfillmentStatus,\n",
    "o.CustomerName=$CustomerName,\n",
    "o.City = $City,\n",
    "o.PaymentMethod=$PaymentMethod,\n",
    "o.RiskLevel = $RiskLevel\n",
    "'''\n",
    "\n",
    "start_time = time.time()\n",
    "count=df.shape[0]\n",
    "if (UPLOAD_DATA):\n",
    "    for OrderId, row in df.iterrows():\n",
    "        graph.run(request, OrderId=row['OrderId'],\n",
    "                  FinancialStatus=None if pd.isnull(row['FinancialStatus']) else row['FinancialStatus'],\n",
    "                  Date= None if pd.isnull(row['Date']) else row['Date'],\n",
    "                  Total=None if pd.isnull(row['Total']) else row['Total'],          \n",
    "                  DiscountAmount= None if pd.isnull(row['DiscountAmount']) else row['DiscountAmount'],\n",
    "                  Quantity=None if pd.isnull(row['Quantity']) else row['Quantity'],\n",
    "                  ProductName= None if pd.isnull(row['ProductName']) else row['ProductName'],\n",
    "                  Price= None if pd.isnull(row['Price']) else row['Price'],\n",
    "                  FulfillmentStatus=None if pd.isnull(row['FulfillmentStatus']) else row['FulfillmentStatus'],          \n",
    "                  CustomerName= None if pd.isnull(row['CustomerName']) else row['CustomerName'],\n",
    "                  City=None if pd.isnull(row['City']) else row['City'],\n",
    "                  PaymentMethod= None if pd.isnull(row['PaymentMethod']) else row['PaymentMethod'],\n",
    "                  RiskLevel=None if pd.isnull(row['RiskLevel']) else row['RiskLevel'])\n",
    "        \n",
    "    if (OrderId%100==0):\n",
    "        exec_time = time.time()- start_time\n",
    "print(f'{OrderId}/{df.shape[0]} done ... -- {exec_time} seconds --')\n",
    "exec_time = time.time()- start_time\n",
    "print(f' ... End ... -- {exec_time} seconds --')"
   ]
  },
  {
   "cell_type": "markdown",
   "id": "scenic-aggregate",
   "metadata": {},
   "source": [
    "### Basic graph exploratory data analysis (EDA)"
   ]
  },
  {
   "cell_type": "code",
   "execution_count": 389,
   "id": "living-carter",
   "metadata": {},
   "outputs": [
    {
     "name": "stdout",
     "output_type": "stream",
     "text": [
      "(No data)\n",
      "-- 0.9028902053833008 seconds --\n"
     ]
    }
   ],
   "source": [
    "# customer to date\n",
    "request =\"\"\"\n",
    "MATCH (o:Order)\n",
    "WITH o\n",
    "MERGE (d:Date{od:o.Date})\n",
    "MERGE (c:Customer {name: trim(o.CustomerName)})\n",
    "MERGE (c)-[r:PURCHASED_ON]->(d);\n",
    "\"\"\"    \n",
    "run_request(request,UPLOAD_DATA)"
   ]
  },
  {
   "cell_type": "code",
   "execution_count": 391,
   "id": "universal-setup",
   "metadata": {},
   "outputs": [
    {
     "name": "stdout",
     "output_type": "stream",
     "text": [
      "(No data)\n",
      "-- 0.6206815242767334 seconds --\n"
     ]
    }
   ],
   "source": [
    "# customer to product name\n",
    "request =\"\"\"\n",
    "MATCH (o:Order)\n",
    "WITH o\n",
    "MERGE (p:Product{pn:o.ProductName})\n",
    "MERGE (c:Customer {name: trim(o.CustomerName)})\n",
    "MERGE (c)-[r:PURCHASED]->(p);\n",
    "\"\"\"    \n",
    "run_request(request,UPLOAD_DATA)"
   ]
  },
  {
   "cell_type": "code",
   "execution_count": 390,
   "id": "therapeutic-artwork",
   "metadata": {},
   "outputs": [
    {
     "name": "stdout",
     "output_type": "stream",
     "text": [
      "(No data)\n",
      "-- 0.5042617321014404 seconds --\n"
     ]
    }
   ],
   "source": [
    "# product name to order id\n",
    "request =\"\"\"\n",
    "MATCH (o:Order)\n",
    "WHERE o.OrderId IS NOT NULL\n",
    "WITH o\n",
    "MERGE (oid:OrderId{oi:o.OrderId})\n",
    "MERGE (p:Product{pn:o.ProductName})\n",
    "MERGE (p)-[r:ID]->(oid);\n",
    "\"\"\" \n",
    "run_request(request,UPLOAD_DATA)"
   ]
  },
  {
   "cell_type": "code",
   "execution_count": 392,
   "id": "creative-hurricane",
   "metadata": {},
   "outputs": [
    {
     "name": "stdout",
     "output_type": "stream",
     "text": [
      "(No data)\n",
      "-- 0.38634443283081055 seconds --\n"
     ]
    }
   ],
   "source": [
    "# product name to quantity\n",
    "request =\"\"\"\n",
    "MATCH (o:Order)\n",
    "WHERE o.OrderId IS NOT NULL\n",
    "WITH o\n",
    "MERGE (q:ItemQuantity{qn:o.Quantity})\n",
    "MERGE (p:Product{pn:o.ProductName})\n",
    "MERGE (p)-[r:PRODUCT_QUANTITY]->(q);\n",
    "\"\"\"    \n",
    "run_request(request,UPLOAD_DATA)"
   ]
  },
  {
   "cell_type": "code",
   "execution_count": 393,
   "id": "dynamic-temperature",
   "metadata": {},
   "outputs": [
    {
     "name": "stdout",
     "output_type": "stream",
     "text": [
      "(No data)\n",
      "-- 0.49872326850891113 seconds --\n"
     ]
    }
   ],
   "source": [
    "# orderid to quantity\n",
    "request =\"\"\"\n",
    "MATCH (o:Order)\n",
    "WHERE o.OrderId IS NOT NULL\n",
    "WITH o\n",
    "MERGE (q:ItemQuantity{qn:o.Quantity})\n",
    "MERGE (oid:OrderId{oi:o.OrderId})\n",
    "MERGE (oid)-[r:RELATED_TO]->(q);\n",
    "\"\"\"    \n",
    "run_request(request,UPLOAD_DATA)"
   ]
  },
  {
   "cell_type": "code",
   "execution_count": 394,
   "id": "prescribed-scenario",
   "metadata": {},
   "outputs": [
    {
     "name": "stdout",
     "output_type": "stream",
     "text": [
      "(No data)\n",
      "-- 0.5456371307373047 seconds --\n"
     ]
    }
   ],
   "source": [
    "# product name to price\n",
    "request =\"\"\"\n",
    "MATCH (o:Order)\n",
    "WITH o\n",
    "MERGE (pr:Price{name:o.Price})\n",
    "MERGE (p:Product{pn:o.ProductName})\n",
    "MERGE (p)-[r:PRODUCT_PRICE]->(pr);\n",
    "\"\"\"    \n",
    "run_request(request,UPLOAD_DATA)"
   ]
  },
  {
   "cell_type": "code",
   "execution_count": 395,
   "id": "digital-particular",
   "metadata": {},
   "outputs": [
    {
     "name": "stdout",
     "output_type": "stream",
     "text": [
      "(No data)\n",
      "-- 0.3649613857269287 seconds --\n"
     ]
    }
   ],
   "source": [
    "# price to discount amount\n",
    "request =\"\"\"\n",
    "MATCH (o:Order)\n",
    "WITH o\n",
    "MERGE (disc:Discount{da:o.DiscountAmount})\n",
    "MERGE (pr:Price{name:o.Price})\n",
    "MERGE (pr)-[r:HAS_DISCOUNT]->(disc);\n",
    "\"\"\"    \n",
    "run_request(request,UPLOAD_DATA)"
   ]
  },
  {
   "cell_type": "code",
   "execution_count": 396,
   "id": "promotional-madagascar",
   "metadata": {},
   "outputs": [
    {
     "name": "stdout",
     "output_type": "stream",
     "text": [
      "(No data)\n",
      "-- 0.375136137008667 seconds --\n"
     ]
    }
   ],
   "source": [
    "# discount amount to total\n",
    "request =\"\"\"\n",
    "MATCH (o:Order)\n",
    "WITH o\n",
    "MERGE (t:Total{to:o.Total})\n",
    "MERGE (disc:Discount{da:o.DiscountAmount})\n",
    "MERGE (disc)-[r:AFTER_DISCOUNT]->(t);\n",
    "\"\"\"    \n",
    "run_request(request,UPLOAD_DATA)"
   ]
  },
  {
   "cell_type": "code",
   "execution_count": 397,
   "id": "literary-illinois",
   "metadata": {},
   "outputs": [
    {
     "name": "stdout",
     "output_type": "stream",
     "text": [
      "(No data)\n",
      "-- 0.32384753227233887 seconds --\n"
     ]
    }
   ],
   "source": [
    "# total to payment method\n",
    "request =\"\"\"\n",
    "MATCH (o:Order)\n",
    "WITH o\n",
    "MERGE (pm:PaymentMethod{pmt:o.PaymentMethod})\n",
    "MERGE (t:Total{to:o.Total})\n",
    "MERGE (t)-[r:PAYMENT_TYPE]->(pm);\n",
    "\"\"\"    \n",
    "run_request(request,UPLOAD_DATA)"
   ]
  },
  {
   "cell_type": "code",
   "execution_count": 398,
   "id": "textile-touch",
   "metadata": {},
   "outputs": [
    {
     "name": "stdout",
     "output_type": "stream",
     "text": [
      "(No data)\n",
      "-- 0.4098992347717285 seconds --\n"
     ]
    }
   ],
   "source": [
    "# payment method to city\n",
    "request =\"\"\"\n",
    "MATCH (o:Order)\n",
    "WITH o\n",
    "MERGE (c:City{ct:o.City})\n",
    "MERGE (pm:PaymentMethod{pmt:o.PaymentMethod})\n",
    "MERGE (pm)-[r:DELIVERS_TO]->(c);\n",
    "\"\"\"    \n",
    "run_request(request,UPLOAD_DATA)"
   ]
  },
  {
   "cell_type": "code",
   "execution_count": 399,
   "id": "consecutive-lloyd",
   "metadata": {},
   "outputs": [
    {
     "name": "stdout",
     "output_type": "stream",
     "text": [
      "(No data)\n",
      "-- 0.451526403427124 seconds --\n"
     ]
    }
   ],
   "source": [
    "# city to fulfilment status\n",
    "request =\"\"\"\n",
    "MATCH (o:Order)\n",
    "WITH o\n",
    "MERGE (f:FulfillmentStatus{fs:o.FulfillmentStatus})\n",
    "MERGE (c:City{ct:o.City})\n",
    "MERGE (c)-[r:DELIVERED_STATUS]->(f);\n",
    "\"\"\"    \n",
    "run_request(request,UPLOAD_DATA)"
   ]
  },
  {
   "cell_type": "code",
   "execution_count": 400,
   "id": "funded-booth",
   "metadata": {},
   "outputs": [
    {
     "data": {
      "text/plain": [
       "[{'nodes': [Node('Order', constraints=[], indexes=[], name='Order'),\n",
       "   Node('_Bloom_Perspective_', constraints=[\"Constraint( id=4, name='constraint_b8a3620a', type='UNIQUENESS', schema=(:_Bloom_Perspective_ {id}), ownedIndex=3 )\"], indexes=[], name='_Bloom_Perspective_'),\n",
       "   Node('Discount', constraints=[], indexes=[], name='Discount'),\n",
       "   Node('Customer', constraints=[], indexes=[], name='Customer'),\n",
       "   Node('Product', constraints=[], indexes=[], name='Product'),\n",
       "   Node('City', constraints=[], indexes=[], name='City'),\n",
       "   Node('OrderId', constraints=[], indexes=[], name='OrderId'),\n",
       "   Node('Date', constraints=[], indexes=[], name='Date'),\n",
       "   Node('FulfillmentStatus', constraints=[], indexes=[], name='FulfillmentStatus'),\n",
       "   Node('Price', constraints=[], indexes=[], name='Price'),\n",
       "   Node('ItemQuantity', constraints=[], indexes=[], name='ItemQuantity'),\n",
       "   Node('Total', constraints=[], indexes=[], name='Total'),\n",
       "   Node('PaymentMethod', constraints=[], indexes=[], name='PaymentMethod')],\n",
       "  'relationships': [PAYMENT_TYPE(Node(), Node()),\n",
       "   PURCHASED_ON(Node(), Node()),\n",
       "   PRODUCT_PRICE(Node(), Node()),\n",
       "   PRODUCT_QUANTITY(Node(), Node()),\n",
       "   RELATED_TO(Node(), Node()),\n",
       "   AFTER_DISCOUNT(Node(), Node()),\n",
       "   ID(Node(), Node()),\n",
       "   PURCHASED(Node(), Node()),\n",
       "   DELIVERED_STATUS(Node(), Node()),\n",
       "   HAS_DISCOUNT(Node(), Node()),\n",
       "   DELIVERS_TO(Node(), Node())]}]"
      ]
     },
     "execution_count": 400,
     "metadata": {},
     "output_type": "execute_result"
    }
   ],
   "source": [
    "# Data visualization\n",
    "graph.run(\"CALL db.schema.visualization()\").data()"
   ]
  },
  {
   "cell_type": "code",
   "execution_count": 401,
   "id": "premium-recipe",
   "metadata": {},
   "outputs": [
    {
     "data": {
      "text/html": [
       "<div>\n",
       "<style scoped>\n",
       "    .dataframe tbody tr th:only-of-type {\n",
       "        vertical-align: middle;\n",
       "    }\n",
       "\n",
       "    .dataframe tbody tr th {\n",
       "        vertical-align: top;\n",
       "    }\n",
       "\n",
       "    .dataframe thead th {\n",
       "        text-align: right;\n",
       "    }\n",
       "</style>\n",
       "<table border=\"1\" class=\"dataframe\">\n",
       "  <thead>\n",
       "    <tr style=\"text-align: right;\">\n",
       "      <th></th>\n",
       "      <th>label</th>\n",
       "      <th>count</th>\n",
       "    </tr>\n",
       "  </thead>\n",
       "  <tbody>\n",
       "    <tr>\n",
       "      <th>0</th>\n",
       "      <td>Order</td>\n",
       "      <td>398</td>\n",
       "    </tr>\n",
       "    <tr>\n",
       "      <th>2</th>\n",
       "      <td>Date</td>\n",
       "      <td>199</td>\n",
       "    </tr>\n",
       "    <tr>\n",
       "      <th>4</th>\n",
       "      <td>OrderId</td>\n",
       "      <td>199</td>\n",
       "    </tr>\n",
       "    <tr>\n",
       "      <th>1</th>\n",
       "      <td>Customer</td>\n",
       "      <td>189</td>\n",
       "    </tr>\n",
       "    <tr>\n",
       "      <th>10</th>\n",
       "      <td>City</td>\n",
       "      <td>91</td>\n",
       "    </tr>\n",
       "    <tr>\n",
       "      <th>3</th>\n",
       "      <td>Product</td>\n",
       "      <td>29</td>\n",
       "    </tr>\n",
       "    <tr>\n",
       "      <th>7</th>\n",
       "      <td>Discount</td>\n",
       "      <td>26</td>\n",
       "    </tr>\n",
       "    <tr>\n",
       "      <th>8</th>\n",
       "      <td>Total</td>\n",
       "      <td>23</td>\n",
       "    </tr>\n",
       "    <tr>\n",
       "      <th>6</th>\n",
       "      <td>Price</td>\n",
       "      <td>17</td>\n",
       "    </tr>\n",
       "    <tr>\n",
       "      <th>11</th>\n",
       "      <td>FulfillmentStatus</td>\n",
       "      <td>3</td>\n",
       "    </tr>\n",
       "    <tr>\n",
       "      <th>5</th>\n",
       "      <td>ItemQuantity</td>\n",
       "      <td>2</td>\n",
       "    </tr>\n",
       "    <tr>\n",
       "      <th>9</th>\n",
       "      <td>PaymentMethod</td>\n",
       "      <td>2</td>\n",
       "    </tr>\n",
       "    <tr>\n",
       "      <th>12</th>\n",
       "      <td>_Bloom_Perspective_</td>\n",
       "      <td>0</td>\n",
       "    </tr>\n",
       "  </tbody>\n",
       "</table>\n",
       "</div>"
      ],
      "text/plain": [
       "                  label  count\n",
       "0                 Order    398\n",
       "2                  Date    199\n",
       "4               OrderId    199\n",
       "1              Customer    189\n",
       "10                 City     91\n",
       "3               Product     29\n",
       "7              Discount     26\n",
       "8                 Total     23\n",
       "6                 Price     17\n",
       "11    FulfillmentStatus      3\n",
       "5          ItemQuantity      2\n",
       "9         PaymentMethod      2\n",
       "12  _Bloom_Perspective_      0"
      ]
     },
     "execution_count": 401,
     "metadata": {},
     "output_type": "execute_result"
    }
   ],
   "source": [
    "result = {\"label\": [], \"count\": []}\n",
    "for label in graph.run(\"CALL db.labels()\").to_series():\n",
    "    query = f\"MATCH (:`{label}`) RETURN count(*) as count\"\n",
    "    count = graph.run(query).to_data_frame().iloc[0]['count']\n",
    "    result[\"label\"].append(label)\n",
    "    result[\"count\"].append(count)\n",
    "nodes_df = pd.DataFrame(data=result)\n",
    "nodes_df.sort_values(\"count\",ascending=False)"
   ]
  },
  {
   "cell_type": "code",
   "execution_count": 402,
   "id": "split-point",
   "metadata": {},
   "outputs": [
    {
     "data": {
      "application/vnd.plotly.v1+json": {
       "config": {
        "plotlyServerURL": "https://plot.ly"
       },
       "data": [
        {
         "alignmentgroup": "True",
         "hovertemplate": "label=%{x}<br>count=%{y}<extra></extra>",
         "legendgroup": "",
         "marker": {
          "color": "#636efa",
          "pattern": {
           "shape": ""
          }
         },
         "name": "",
         "offsetgroup": "",
         "orientation": "v",
         "showlegend": false,
         "textposition": "auto",
         "type": "bar",
         "x": [
          "Order",
          "Customer",
          "Date",
          "Product",
          "OrderId",
          "ItemQuantity",
          "Price",
          "Discount",
          "Total",
          "PaymentMethod",
          "City",
          "FulfillmentStatus",
          "_Bloom_Perspective_"
         ],
         "xaxis": "x",
         "y": [
          398,
          189,
          199,
          29,
          199,
          2,
          17,
          26,
          23,
          2,
          91,
          3,
          0
         ],
         "yaxis": "y"
        }
       ],
       "layout": {
        "barmode": "relative",
        "legend": {
         "tracegroupgap": 0
        },
        "template": {
         "data": {
          "bar": [
           {
            "error_x": {
             "color": "#2a3f5f"
            },
            "error_y": {
             "color": "#2a3f5f"
            },
            "marker": {
             "line": {
              "color": "#E5ECF6",
              "width": 0.5
             },
             "pattern": {
              "fillmode": "overlay",
              "size": 10,
              "solidity": 0.2
             }
            },
            "type": "bar"
           }
          ],
          "barpolar": [
           {
            "marker": {
             "line": {
              "color": "#E5ECF6",
              "width": 0.5
             },
             "pattern": {
              "fillmode": "overlay",
              "size": 10,
              "solidity": 0.2
             }
            },
            "type": "barpolar"
           }
          ],
          "carpet": [
           {
            "aaxis": {
             "endlinecolor": "#2a3f5f",
             "gridcolor": "white",
             "linecolor": "white",
             "minorgridcolor": "white",
             "startlinecolor": "#2a3f5f"
            },
            "baxis": {
             "endlinecolor": "#2a3f5f",
             "gridcolor": "white",
             "linecolor": "white",
             "minorgridcolor": "white",
             "startlinecolor": "#2a3f5f"
            },
            "type": "carpet"
           }
          ],
          "choropleth": [
           {
            "colorbar": {
             "outlinewidth": 0,
             "ticks": ""
            },
            "type": "choropleth"
           }
          ],
          "contour": [
           {
            "colorbar": {
             "outlinewidth": 0,
             "ticks": ""
            },
            "colorscale": [
             [
              0,
              "#0d0887"
             ],
             [
              0.1111111111111111,
              "#46039f"
             ],
             [
              0.2222222222222222,
              "#7201a8"
             ],
             [
              0.3333333333333333,
              "#9c179e"
             ],
             [
              0.4444444444444444,
              "#bd3786"
             ],
             [
              0.5555555555555556,
              "#d8576b"
             ],
             [
              0.6666666666666666,
              "#ed7953"
             ],
             [
              0.7777777777777778,
              "#fb9f3a"
             ],
             [
              0.8888888888888888,
              "#fdca26"
             ],
             [
              1,
              "#f0f921"
             ]
            ],
            "type": "contour"
           }
          ],
          "contourcarpet": [
           {
            "colorbar": {
             "outlinewidth": 0,
             "ticks": ""
            },
            "type": "contourcarpet"
           }
          ],
          "heatmap": [
           {
            "colorbar": {
             "outlinewidth": 0,
             "ticks": ""
            },
            "colorscale": [
             [
              0,
              "#0d0887"
             ],
             [
              0.1111111111111111,
              "#46039f"
             ],
             [
              0.2222222222222222,
              "#7201a8"
             ],
             [
              0.3333333333333333,
              "#9c179e"
             ],
             [
              0.4444444444444444,
              "#bd3786"
             ],
             [
              0.5555555555555556,
              "#d8576b"
             ],
             [
              0.6666666666666666,
              "#ed7953"
             ],
             [
              0.7777777777777778,
              "#fb9f3a"
             ],
             [
              0.8888888888888888,
              "#fdca26"
             ],
             [
              1,
              "#f0f921"
             ]
            ],
            "type": "heatmap"
           }
          ],
          "heatmapgl": [
           {
            "colorbar": {
             "outlinewidth": 0,
             "ticks": ""
            },
            "colorscale": [
             [
              0,
              "#0d0887"
             ],
             [
              0.1111111111111111,
              "#46039f"
             ],
             [
              0.2222222222222222,
              "#7201a8"
             ],
             [
              0.3333333333333333,
              "#9c179e"
             ],
             [
              0.4444444444444444,
              "#bd3786"
             ],
             [
              0.5555555555555556,
              "#d8576b"
             ],
             [
              0.6666666666666666,
              "#ed7953"
             ],
             [
              0.7777777777777778,
              "#fb9f3a"
             ],
             [
              0.8888888888888888,
              "#fdca26"
             ],
             [
              1,
              "#f0f921"
             ]
            ],
            "type": "heatmapgl"
           }
          ],
          "histogram": [
           {
            "marker": {
             "pattern": {
              "fillmode": "overlay",
              "size": 10,
              "solidity": 0.2
             }
            },
            "type": "histogram"
           }
          ],
          "histogram2d": [
           {
            "colorbar": {
             "outlinewidth": 0,
             "ticks": ""
            },
            "colorscale": [
             [
              0,
              "#0d0887"
             ],
             [
              0.1111111111111111,
              "#46039f"
             ],
             [
              0.2222222222222222,
              "#7201a8"
             ],
             [
              0.3333333333333333,
              "#9c179e"
             ],
             [
              0.4444444444444444,
              "#bd3786"
             ],
             [
              0.5555555555555556,
              "#d8576b"
             ],
             [
              0.6666666666666666,
              "#ed7953"
             ],
             [
              0.7777777777777778,
              "#fb9f3a"
             ],
             [
              0.8888888888888888,
              "#fdca26"
             ],
             [
              1,
              "#f0f921"
             ]
            ],
            "type": "histogram2d"
           }
          ],
          "histogram2dcontour": [
           {
            "colorbar": {
             "outlinewidth": 0,
             "ticks": ""
            },
            "colorscale": [
             [
              0,
              "#0d0887"
             ],
             [
              0.1111111111111111,
              "#46039f"
             ],
             [
              0.2222222222222222,
              "#7201a8"
             ],
             [
              0.3333333333333333,
              "#9c179e"
             ],
             [
              0.4444444444444444,
              "#bd3786"
             ],
             [
              0.5555555555555556,
              "#d8576b"
             ],
             [
              0.6666666666666666,
              "#ed7953"
             ],
             [
              0.7777777777777778,
              "#fb9f3a"
             ],
             [
              0.8888888888888888,
              "#fdca26"
             ],
             [
              1,
              "#f0f921"
             ]
            ],
            "type": "histogram2dcontour"
           }
          ],
          "mesh3d": [
           {
            "colorbar": {
             "outlinewidth": 0,
             "ticks": ""
            },
            "type": "mesh3d"
           }
          ],
          "parcoords": [
           {
            "line": {
             "colorbar": {
              "outlinewidth": 0,
              "ticks": ""
             }
            },
            "type": "parcoords"
           }
          ],
          "pie": [
           {
            "automargin": true,
            "type": "pie"
           }
          ],
          "scatter": [
           {
            "fillpattern": {
             "fillmode": "overlay",
             "size": 10,
             "solidity": 0.2
            },
            "type": "scatter"
           }
          ],
          "scatter3d": [
           {
            "line": {
             "colorbar": {
              "outlinewidth": 0,
              "ticks": ""
             }
            },
            "marker": {
             "colorbar": {
              "outlinewidth": 0,
              "ticks": ""
             }
            },
            "type": "scatter3d"
           }
          ],
          "scattercarpet": [
           {
            "marker": {
             "colorbar": {
              "outlinewidth": 0,
              "ticks": ""
             }
            },
            "type": "scattercarpet"
           }
          ],
          "scattergeo": [
           {
            "marker": {
             "colorbar": {
              "outlinewidth": 0,
              "ticks": ""
             }
            },
            "type": "scattergeo"
           }
          ],
          "scattergl": [
           {
            "marker": {
             "colorbar": {
              "outlinewidth": 0,
              "ticks": ""
             }
            },
            "type": "scattergl"
           }
          ],
          "scattermapbox": [
           {
            "marker": {
             "colorbar": {
              "outlinewidth": 0,
              "ticks": ""
             }
            },
            "type": "scattermapbox"
           }
          ],
          "scatterpolar": [
           {
            "marker": {
             "colorbar": {
              "outlinewidth": 0,
              "ticks": ""
             }
            },
            "type": "scatterpolar"
           }
          ],
          "scatterpolargl": [
           {
            "marker": {
             "colorbar": {
              "outlinewidth": 0,
              "ticks": ""
             }
            },
            "type": "scatterpolargl"
           }
          ],
          "scatterternary": [
           {
            "marker": {
             "colorbar": {
              "outlinewidth": 0,
              "ticks": ""
             }
            },
            "type": "scatterternary"
           }
          ],
          "surface": [
           {
            "colorbar": {
             "outlinewidth": 0,
             "ticks": ""
            },
            "colorscale": [
             [
              0,
              "#0d0887"
             ],
             [
              0.1111111111111111,
              "#46039f"
             ],
             [
              0.2222222222222222,
              "#7201a8"
             ],
             [
              0.3333333333333333,
              "#9c179e"
             ],
             [
              0.4444444444444444,
              "#bd3786"
             ],
             [
              0.5555555555555556,
              "#d8576b"
             ],
             [
              0.6666666666666666,
              "#ed7953"
             ],
             [
              0.7777777777777778,
              "#fb9f3a"
             ],
             [
              0.8888888888888888,
              "#fdca26"
             ],
             [
              1,
              "#f0f921"
             ]
            ],
            "type": "surface"
           }
          ],
          "table": [
           {
            "cells": {
             "fill": {
              "color": "#EBF0F8"
             },
             "line": {
              "color": "white"
             }
            },
            "header": {
             "fill": {
              "color": "#C8D4E3"
             },
             "line": {
              "color": "white"
             }
            },
            "type": "table"
           }
          ]
         },
         "layout": {
          "annotationdefaults": {
           "arrowcolor": "#2a3f5f",
           "arrowhead": 0,
           "arrowwidth": 1
          },
          "autotypenumbers": "strict",
          "coloraxis": {
           "colorbar": {
            "outlinewidth": 0,
            "ticks": ""
           }
          },
          "colorscale": {
           "diverging": [
            [
             0,
             "#8e0152"
            ],
            [
             0.1,
             "#c51b7d"
            ],
            [
             0.2,
             "#de77ae"
            ],
            [
             0.3,
             "#f1b6da"
            ],
            [
             0.4,
             "#fde0ef"
            ],
            [
             0.5,
             "#f7f7f7"
            ],
            [
             0.6,
             "#e6f5d0"
            ],
            [
             0.7,
             "#b8e186"
            ],
            [
             0.8,
             "#7fbc41"
            ],
            [
             0.9,
             "#4d9221"
            ],
            [
             1,
             "#276419"
            ]
           ],
           "sequential": [
            [
             0,
             "#0d0887"
            ],
            [
             0.1111111111111111,
             "#46039f"
            ],
            [
             0.2222222222222222,
             "#7201a8"
            ],
            [
             0.3333333333333333,
             "#9c179e"
            ],
            [
             0.4444444444444444,
             "#bd3786"
            ],
            [
             0.5555555555555556,
             "#d8576b"
            ],
            [
             0.6666666666666666,
             "#ed7953"
            ],
            [
             0.7777777777777778,
             "#fb9f3a"
            ],
            [
             0.8888888888888888,
             "#fdca26"
            ],
            [
             1,
             "#f0f921"
            ]
           ],
           "sequentialminus": [
            [
             0,
             "#0d0887"
            ],
            [
             0.1111111111111111,
             "#46039f"
            ],
            [
             0.2222222222222222,
             "#7201a8"
            ],
            [
             0.3333333333333333,
             "#9c179e"
            ],
            [
             0.4444444444444444,
             "#bd3786"
            ],
            [
             0.5555555555555556,
             "#d8576b"
            ],
            [
             0.6666666666666666,
             "#ed7953"
            ],
            [
             0.7777777777777778,
             "#fb9f3a"
            ],
            [
             0.8888888888888888,
             "#fdca26"
            ],
            [
             1,
             "#f0f921"
            ]
           ]
          },
          "colorway": [
           "#636efa",
           "#EF553B",
           "#00cc96",
           "#ab63fa",
           "#FFA15A",
           "#19d3f3",
           "#FF6692",
           "#B6E880",
           "#FF97FF",
           "#FECB52"
          ],
          "font": {
           "color": "#2a3f5f"
          },
          "geo": {
           "bgcolor": "white",
           "lakecolor": "white",
           "landcolor": "#E5ECF6",
           "showlakes": true,
           "showland": true,
           "subunitcolor": "white"
          },
          "hoverlabel": {
           "align": "left"
          },
          "hovermode": "closest",
          "mapbox": {
           "style": "light"
          },
          "paper_bgcolor": "white",
          "plot_bgcolor": "#E5ECF6",
          "polar": {
           "angularaxis": {
            "gridcolor": "white",
            "linecolor": "white",
            "ticks": ""
           },
           "bgcolor": "#E5ECF6",
           "radialaxis": {
            "gridcolor": "white",
            "linecolor": "white",
            "ticks": ""
           }
          },
          "scene": {
           "xaxis": {
            "backgroundcolor": "#E5ECF6",
            "gridcolor": "white",
            "gridwidth": 2,
            "linecolor": "white",
            "showbackground": true,
            "ticks": "",
            "zerolinecolor": "white"
           },
           "yaxis": {
            "backgroundcolor": "#E5ECF6",
            "gridcolor": "white",
            "gridwidth": 2,
            "linecolor": "white",
            "showbackground": true,
            "ticks": "",
            "zerolinecolor": "white"
           },
           "zaxis": {
            "backgroundcolor": "#E5ECF6",
            "gridcolor": "white",
            "gridwidth": 2,
            "linecolor": "white",
            "showbackground": true,
            "ticks": "",
            "zerolinecolor": "white"
           }
          },
          "shapedefaults": {
           "line": {
            "color": "#2a3f5f"
           }
          },
          "ternary": {
           "aaxis": {
            "gridcolor": "white",
            "linecolor": "white",
            "ticks": ""
           },
           "baxis": {
            "gridcolor": "white",
            "linecolor": "white",
            "ticks": ""
           },
           "bgcolor": "#E5ECF6",
           "caxis": {
            "gridcolor": "white",
            "linecolor": "white",
            "ticks": ""
           }
          },
          "title": {
           "x": 0.05
          },
          "xaxis": {
           "automargin": true,
           "gridcolor": "white",
           "linecolor": "white",
           "ticks": "",
           "title": {
            "standoff": 15
           },
           "zerolinecolor": "white",
           "zerolinewidth": 2
          },
          "yaxis": {
           "automargin": true,
           "gridcolor": "white",
           "linecolor": "white",
           "ticks": "",
           "title": {
            "standoff": 15
           },
           "zerolinecolor": "white",
           "zerolinewidth": 2
          }
         }
        },
        "title": {
         "text": "Node Cardinalities"
        },
        "xaxis": {
         "anchor": "y",
         "domain": [
          0,
          1
         ],
         "tickangle": -45,
         "title": {
          "text": "label"
         }
        },
        "yaxis": {
         "anchor": "x",
         "domain": [
          0,
          1
         ],
         "title": {
          "text": "count"
         }
        }
       }
      },
      "text/html": [
       "<div>                            <div id=\"945cdf57-cffa-4156-a1a8-bbfb4264b092\" class=\"plotly-graph-div\" style=\"height:525px; width:100%;\"></div>            <script type=\"text/javascript\">                require([\"plotly\"], function(Plotly) {                    window.PLOTLYENV=window.PLOTLYENV || {};                                    if (document.getElementById(\"945cdf57-cffa-4156-a1a8-bbfb4264b092\")) {                    Plotly.newPlot(                        \"945cdf57-cffa-4156-a1a8-bbfb4264b092\",                        [{\"alignmentgroup\":\"True\",\"hovertemplate\":\"label=%{x}<br>count=%{y}<extra></extra>\",\"legendgroup\":\"\",\"marker\":{\"color\":\"#636efa\",\"pattern\":{\"shape\":\"\"}},\"name\":\"\",\"offsetgroup\":\"\",\"orientation\":\"v\",\"showlegend\":false,\"textposition\":\"auto\",\"x\":[\"Order\",\"Customer\",\"Date\",\"Product\",\"OrderId\",\"ItemQuantity\",\"Price\",\"Discount\",\"Total\",\"PaymentMethod\",\"City\",\"FulfillmentStatus\",\"_Bloom_Perspective_\"],\"xaxis\":\"x\",\"y\":[398,189,199,29,199,2,17,26,23,2,91,3,0],\"yaxis\":\"y\",\"type\":\"bar\"}],                        {\"template\":{\"data\":{\"histogram2dcontour\":[{\"type\":\"histogram2dcontour\",\"colorbar\":{\"outlinewidth\":0,\"ticks\":\"\"},\"colorscale\":[[0.0,\"#0d0887\"],[0.1111111111111111,\"#46039f\"],[0.2222222222222222,\"#7201a8\"],[0.3333333333333333,\"#9c179e\"],[0.4444444444444444,\"#bd3786\"],[0.5555555555555556,\"#d8576b\"],[0.6666666666666666,\"#ed7953\"],[0.7777777777777778,\"#fb9f3a\"],[0.8888888888888888,\"#fdca26\"],[1.0,\"#f0f921\"]]}],\"choropleth\":[{\"type\":\"choropleth\",\"colorbar\":{\"outlinewidth\":0,\"ticks\":\"\"}}],\"histogram2d\":[{\"type\":\"histogram2d\",\"colorbar\":{\"outlinewidth\":0,\"ticks\":\"\"},\"colorscale\":[[0.0,\"#0d0887\"],[0.1111111111111111,\"#46039f\"],[0.2222222222222222,\"#7201a8\"],[0.3333333333333333,\"#9c179e\"],[0.4444444444444444,\"#bd3786\"],[0.5555555555555556,\"#d8576b\"],[0.6666666666666666,\"#ed7953\"],[0.7777777777777778,\"#fb9f3a\"],[0.8888888888888888,\"#fdca26\"],[1.0,\"#f0f921\"]]}],\"heatmap\":[{\"type\":\"heatmap\",\"colorbar\":{\"outlinewidth\":0,\"ticks\":\"\"},\"colorscale\":[[0.0,\"#0d0887\"],[0.1111111111111111,\"#46039f\"],[0.2222222222222222,\"#7201a8\"],[0.3333333333333333,\"#9c179e\"],[0.4444444444444444,\"#bd3786\"],[0.5555555555555556,\"#d8576b\"],[0.6666666666666666,\"#ed7953\"],[0.7777777777777778,\"#fb9f3a\"],[0.8888888888888888,\"#fdca26\"],[1.0,\"#f0f921\"]]}],\"heatmapgl\":[{\"type\":\"heatmapgl\",\"colorbar\":{\"outlinewidth\":0,\"ticks\":\"\"},\"colorscale\":[[0.0,\"#0d0887\"],[0.1111111111111111,\"#46039f\"],[0.2222222222222222,\"#7201a8\"],[0.3333333333333333,\"#9c179e\"],[0.4444444444444444,\"#bd3786\"],[0.5555555555555556,\"#d8576b\"],[0.6666666666666666,\"#ed7953\"],[0.7777777777777778,\"#fb9f3a\"],[0.8888888888888888,\"#fdca26\"],[1.0,\"#f0f921\"]]}],\"contourcarpet\":[{\"type\":\"contourcarpet\",\"colorbar\":{\"outlinewidth\":0,\"ticks\":\"\"}}],\"contour\":[{\"type\":\"contour\",\"colorbar\":{\"outlinewidth\":0,\"ticks\":\"\"},\"colorscale\":[[0.0,\"#0d0887\"],[0.1111111111111111,\"#46039f\"],[0.2222222222222222,\"#7201a8\"],[0.3333333333333333,\"#9c179e\"],[0.4444444444444444,\"#bd3786\"],[0.5555555555555556,\"#d8576b\"],[0.6666666666666666,\"#ed7953\"],[0.7777777777777778,\"#fb9f3a\"],[0.8888888888888888,\"#fdca26\"],[1.0,\"#f0f921\"]]}],\"surface\":[{\"type\":\"surface\",\"colorbar\":{\"outlinewidth\":0,\"ticks\":\"\"},\"colorscale\":[[0.0,\"#0d0887\"],[0.1111111111111111,\"#46039f\"],[0.2222222222222222,\"#7201a8\"],[0.3333333333333333,\"#9c179e\"],[0.4444444444444444,\"#bd3786\"],[0.5555555555555556,\"#d8576b\"],[0.6666666666666666,\"#ed7953\"],[0.7777777777777778,\"#fb9f3a\"],[0.8888888888888888,\"#fdca26\"],[1.0,\"#f0f921\"]]}],\"mesh3d\":[{\"type\":\"mesh3d\",\"colorbar\":{\"outlinewidth\":0,\"ticks\":\"\"}}],\"scatter\":[{\"fillpattern\":{\"fillmode\":\"overlay\",\"size\":10,\"solidity\":0.2},\"type\":\"scatter\"}],\"parcoords\":[{\"type\":\"parcoords\",\"line\":{\"colorbar\":{\"outlinewidth\":0,\"ticks\":\"\"}}}],\"scatterpolargl\":[{\"type\":\"scatterpolargl\",\"marker\":{\"colorbar\":{\"outlinewidth\":0,\"ticks\":\"\"}}}],\"bar\":[{\"error_x\":{\"color\":\"#2a3f5f\"},\"error_y\":{\"color\":\"#2a3f5f\"},\"marker\":{\"line\":{\"color\":\"#E5ECF6\",\"width\":0.5},\"pattern\":{\"fillmode\":\"overlay\",\"size\":10,\"solidity\":0.2}},\"type\":\"bar\"}],\"scattergeo\":[{\"type\":\"scattergeo\",\"marker\":{\"colorbar\":{\"outlinewidth\":0,\"ticks\":\"\"}}}],\"scatterpolar\":[{\"type\":\"scatterpolar\",\"marker\":{\"colorbar\":{\"outlinewidth\":0,\"ticks\":\"\"}}}],\"histogram\":[{\"marker\":{\"pattern\":{\"fillmode\":\"overlay\",\"size\":10,\"solidity\":0.2}},\"type\":\"histogram\"}],\"scattergl\":[{\"type\":\"scattergl\",\"marker\":{\"colorbar\":{\"outlinewidth\":0,\"ticks\":\"\"}}}],\"scatter3d\":[{\"type\":\"scatter3d\",\"line\":{\"colorbar\":{\"outlinewidth\":0,\"ticks\":\"\"}},\"marker\":{\"colorbar\":{\"outlinewidth\":0,\"ticks\":\"\"}}}],\"scattermapbox\":[{\"type\":\"scattermapbox\",\"marker\":{\"colorbar\":{\"outlinewidth\":0,\"ticks\":\"\"}}}],\"scatterternary\":[{\"type\":\"scatterternary\",\"marker\":{\"colorbar\":{\"outlinewidth\":0,\"ticks\":\"\"}}}],\"scattercarpet\":[{\"type\":\"scattercarpet\",\"marker\":{\"colorbar\":{\"outlinewidth\":0,\"ticks\":\"\"}}}],\"carpet\":[{\"aaxis\":{\"endlinecolor\":\"#2a3f5f\",\"gridcolor\":\"white\",\"linecolor\":\"white\",\"minorgridcolor\":\"white\",\"startlinecolor\":\"#2a3f5f\"},\"baxis\":{\"endlinecolor\":\"#2a3f5f\",\"gridcolor\":\"white\",\"linecolor\":\"white\",\"minorgridcolor\":\"white\",\"startlinecolor\":\"#2a3f5f\"},\"type\":\"carpet\"}],\"table\":[{\"cells\":{\"fill\":{\"color\":\"#EBF0F8\"},\"line\":{\"color\":\"white\"}},\"header\":{\"fill\":{\"color\":\"#C8D4E3\"},\"line\":{\"color\":\"white\"}},\"type\":\"table\"}],\"barpolar\":[{\"marker\":{\"line\":{\"color\":\"#E5ECF6\",\"width\":0.5},\"pattern\":{\"fillmode\":\"overlay\",\"size\":10,\"solidity\":0.2}},\"type\":\"barpolar\"}],\"pie\":[{\"automargin\":true,\"type\":\"pie\"}]},\"layout\":{\"autotypenumbers\":\"strict\",\"colorway\":[\"#636efa\",\"#EF553B\",\"#00cc96\",\"#ab63fa\",\"#FFA15A\",\"#19d3f3\",\"#FF6692\",\"#B6E880\",\"#FF97FF\",\"#FECB52\"],\"font\":{\"color\":\"#2a3f5f\"},\"hovermode\":\"closest\",\"hoverlabel\":{\"align\":\"left\"},\"paper_bgcolor\":\"white\",\"plot_bgcolor\":\"#E5ECF6\",\"polar\":{\"bgcolor\":\"#E5ECF6\",\"angularaxis\":{\"gridcolor\":\"white\",\"linecolor\":\"white\",\"ticks\":\"\"},\"radialaxis\":{\"gridcolor\":\"white\",\"linecolor\":\"white\",\"ticks\":\"\"}},\"ternary\":{\"bgcolor\":\"#E5ECF6\",\"aaxis\":{\"gridcolor\":\"white\",\"linecolor\":\"white\",\"ticks\":\"\"},\"baxis\":{\"gridcolor\":\"white\",\"linecolor\":\"white\",\"ticks\":\"\"},\"caxis\":{\"gridcolor\":\"white\",\"linecolor\":\"white\",\"ticks\":\"\"}},\"coloraxis\":{\"colorbar\":{\"outlinewidth\":0,\"ticks\":\"\"}},\"colorscale\":{\"sequential\":[[0.0,\"#0d0887\"],[0.1111111111111111,\"#46039f\"],[0.2222222222222222,\"#7201a8\"],[0.3333333333333333,\"#9c179e\"],[0.4444444444444444,\"#bd3786\"],[0.5555555555555556,\"#d8576b\"],[0.6666666666666666,\"#ed7953\"],[0.7777777777777778,\"#fb9f3a\"],[0.8888888888888888,\"#fdca26\"],[1.0,\"#f0f921\"]],\"sequentialminus\":[[0.0,\"#0d0887\"],[0.1111111111111111,\"#46039f\"],[0.2222222222222222,\"#7201a8\"],[0.3333333333333333,\"#9c179e\"],[0.4444444444444444,\"#bd3786\"],[0.5555555555555556,\"#d8576b\"],[0.6666666666666666,\"#ed7953\"],[0.7777777777777778,\"#fb9f3a\"],[0.8888888888888888,\"#fdca26\"],[1.0,\"#f0f921\"]],\"diverging\":[[0,\"#8e0152\"],[0.1,\"#c51b7d\"],[0.2,\"#de77ae\"],[0.3,\"#f1b6da\"],[0.4,\"#fde0ef\"],[0.5,\"#f7f7f7\"],[0.6,\"#e6f5d0\"],[0.7,\"#b8e186\"],[0.8,\"#7fbc41\"],[0.9,\"#4d9221\"],[1,\"#276419\"]]},\"xaxis\":{\"gridcolor\":\"white\",\"linecolor\":\"white\",\"ticks\":\"\",\"title\":{\"standoff\":15},\"zerolinecolor\":\"white\",\"automargin\":true,\"zerolinewidth\":2},\"yaxis\":{\"gridcolor\":\"white\",\"linecolor\":\"white\",\"ticks\":\"\",\"title\":{\"standoff\":15},\"zerolinecolor\":\"white\",\"automargin\":true,\"zerolinewidth\":2},\"scene\":{\"xaxis\":{\"backgroundcolor\":\"#E5ECF6\",\"gridcolor\":\"white\",\"linecolor\":\"white\",\"showbackground\":true,\"ticks\":\"\",\"zerolinecolor\":\"white\",\"gridwidth\":2},\"yaxis\":{\"backgroundcolor\":\"#E5ECF6\",\"gridcolor\":\"white\",\"linecolor\":\"white\",\"showbackground\":true,\"ticks\":\"\",\"zerolinecolor\":\"white\",\"gridwidth\":2},\"zaxis\":{\"backgroundcolor\":\"#E5ECF6\",\"gridcolor\":\"white\",\"linecolor\":\"white\",\"showbackground\":true,\"ticks\":\"\",\"zerolinecolor\":\"white\",\"gridwidth\":2}},\"shapedefaults\":{\"line\":{\"color\":\"#2a3f5f\"}},\"annotationdefaults\":{\"arrowcolor\":\"#2a3f5f\",\"arrowhead\":0,\"arrowwidth\":1},\"geo\":{\"bgcolor\":\"white\",\"landcolor\":\"#E5ECF6\",\"subunitcolor\":\"white\",\"showland\":true,\"showlakes\":true,\"lakecolor\":\"white\"},\"title\":{\"x\":0.05},\"mapbox\":{\"style\":\"light\"}}},\"xaxis\":{\"anchor\":\"y\",\"domain\":[0.0,1.0],\"title\":{\"text\":\"label\"},\"tickangle\":-45},\"yaxis\":{\"anchor\":\"x\",\"domain\":[0.0,1.0],\"title\":{\"text\":\"count\"}},\"legend\":{\"tracegroupgap\":0},\"title\":{\"text\":\"Node Cardinalities\"},\"barmode\":\"relative\"},                        {\"responsive\": true}                    ).then(function(){\n",
       "                            \n",
       "var gd = document.getElementById('945cdf57-cffa-4156-a1a8-bbfb4264b092');\n",
       "var x = new MutationObserver(function (mutations, observer) {{\n",
       "        var display = window.getComputedStyle(gd).display;\n",
       "        if (!display || display === 'none') {{\n",
       "            console.log([gd, 'removed!']);\n",
       "            Plotly.purge(gd);\n",
       "            observer.disconnect();\n",
       "        }}\n",
       "}});\n",
       "\n",
       "// Listen for the removal of the full notebook cells\n",
       "var notebookContainer = gd.closest('#notebook-container');\n",
       "if (notebookContainer) {{\n",
       "    x.observe(notebookContainer, {childList: true});\n",
       "}}\n",
       "\n",
       "// Listen for the clearing of the current output cell\n",
       "var outputEl = gd.closest('.output');\n",
       "if (outputEl) {{\n",
       "    x.observe(outputEl, {childList: true});\n",
       "}}\n",
       "\n",
       "                        })                };                });            </script>        </div>"
      ]
     },
     "metadata": {},
     "output_type": "display_data"
    }
   ],
   "source": [
    "fig=px.bar(nodes_df,x='label',y='count',title=\"Node Cardinalities\")\n",
    "fig.update_layout(xaxis_tickangle=-45)\n",
    "fig.show()"
   ]
  },
  {
   "cell_type": "code",
   "execution_count": 403,
   "id": "american-detail",
   "metadata": {},
   "outputs": [
    {
     "data": {
      "text/html": [
       "<div>\n",
       "<style scoped>\n",
       "    .dataframe tbody tr th:only-of-type {\n",
       "        vertical-align: middle;\n",
       "    }\n",
       "\n",
       "    .dataframe tbody tr th {\n",
       "        vertical-align: top;\n",
       "    }\n",
       "\n",
       "    .dataframe thead th {\n",
       "        text-align: right;\n",
       "    }\n",
       "</style>\n",
       "<table border=\"1\" class=\"dataframe\">\n",
       "  <thead>\n",
       "    <tr style=\"text-align: right;\">\n",
       "      <th></th>\n",
       "      <th>RelationshipType</th>\n",
       "      <th>count</th>\n",
       "    </tr>\n",
       "  </thead>\n",
       "  <tbody>\n",
       "    <tr>\n",
       "      <th>0</th>\n",
       "      <td>PURCHASED_ON</td>\n",
       "      <td>199</td>\n",
       "    </tr>\n",
       "    <tr>\n",
       "      <th>8</th>\n",
       "      <td>ID</td>\n",
       "      <td>199</td>\n",
       "    </tr>\n",
       "    <tr>\n",
       "      <th>10</th>\n",
       "      <td>RELATED_TO</td>\n",
       "      <td>199</td>\n",
       "    </tr>\n",
       "    <tr>\n",
       "      <th>1</th>\n",
       "      <td>PURCHASED</td>\n",
       "      <td>197</td>\n",
       "    </tr>\n",
       "    <tr>\n",
       "      <th>7</th>\n",
       "      <td>DELIVERED_STATUS</td>\n",
       "      <td>95</td>\n",
       "    </tr>\n",
       "    <tr>\n",
       "      <th>6</th>\n",
       "      <td>DELIVERS_TO</td>\n",
       "      <td>94</td>\n",
       "    </tr>\n",
       "    <tr>\n",
       "      <th>4</th>\n",
       "      <td>AFTER_DISCOUNT</td>\n",
       "      <td>32</td>\n",
       "    </tr>\n",
       "    <tr>\n",
       "      <th>3</th>\n",
       "      <td>HAS_DISCOUNT</td>\n",
       "      <td>31</td>\n",
       "    </tr>\n",
       "    <tr>\n",
       "      <th>2</th>\n",
       "      <td>PRODUCT_PRICE</td>\n",
       "      <td>29</td>\n",
       "    </tr>\n",
       "    <tr>\n",
       "      <th>9</th>\n",
       "      <td>PRODUCT_QUANTITY</td>\n",
       "      <td>29</td>\n",
       "    </tr>\n",
       "    <tr>\n",
       "      <th>5</th>\n",
       "      <td>PAYMENT_TYPE</td>\n",
       "      <td>24</td>\n",
       "    </tr>\n",
       "  </tbody>\n",
       "</table>\n",
       "</div>"
      ],
      "text/plain": [
       "    RelationshipType  count\n",
       "0       PURCHASED_ON    199\n",
       "8                 ID    199\n",
       "10        RELATED_TO    199\n",
       "1          PURCHASED    197\n",
       "7   DELIVERED_STATUS     95\n",
       "6        DELIVERS_TO     94\n",
       "4     AFTER_DISCOUNT     32\n",
       "3       HAS_DISCOUNT     31\n",
       "2      PRODUCT_PRICE     29\n",
       "9   PRODUCT_QUANTITY     29\n",
       "5       PAYMENT_TYPE     24"
      ]
     },
     "execution_count": 403,
     "metadata": {},
     "output_type": "execute_result"
    }
   ],
   "source": [
    "result = {\"RelationshipType\": [], \"count\": []}\n",
    "for relationship_type in graph.run(\"CALL db.relationshipTypes()\").to_series():\n",
    "    query = f\"MATCH ()-[:`{relationship_type}`]->() RETURN count(*) as count\"\n",
    "    count = graph.run(query).to_data_frame().iloc[0]['count']\n",
    "    result[\"RelationshipType\"].append(relationship_type)\n",
    "    result[\"count\"].append(count)\n",
    "rels_df = pd.DataFrame(data=result)\n",
    "rels_df.sort_values(\"count\",ascending=False)"
   ]
  },
  {
   "cell_type": "code",
   "execution_count": 404,
   "id": "relevant-tsunami",
   "metadata": {},
   "outputs": [
    {
     "data": {
      "application/vnd.plotly.v1+json": {
       "config": {
        "plotlyServerURL": "https://plot.ly"
       },
       "data": [
        {
         "alignmentgroup": "True",
         "hovertemplate": "RelationshipType=%{x}<br>count=%{y}<extra></extra>",
         "legendgroup": "",
         "marker": {
          "color": "#636efa",
          "pattern": {
           "shape": ""
          }
         },
         "name": "",
         "offsetgroup": "",
         "orientation": "v",
         "showlegend": false,
         "textposition": "auto",
         "type": "bar",
         "x": [
          "PURCHASED_ON",
          "PURCHASED",
          "PRODUCT_PRICE",
          "HAS_DISCOUNT",
          "AFTER_DISCOUNT",
          "PAYMENT_TYPE",
          "DELIVERS_TO",
          "DELIVERED_STATUS",
          "ID",
          "PRODUCT_QUANTITY",
          "RELATED_TO"
         ],
         "xaxis": "x",
         "y": [
          199,
          197,
          29,
          31,
          32,
          24,
          94,
          95,
          199,
          29,
          199
         ],
         "yaxis": "y"
        }
       ],
       "layout": {
        "barmode": "relative",
        "legend": {
         "tracegroupgap": 0
        },
        "template": {
         "data": {
          "bar": [
           {
            "error_x": {
             "color": "#2a3f5f"
            },
            "error_y": {
             "color": "#2a3f5f"
            },
            "marker": {
             "line": {
              "color": "#E5ECF6",
              "width": 0.5
             },
             "pattern": {
              "fillmode": "overlay",
              "size": 10,
              "solidity": 0.2
             }
            },
            "type": "bar"
           }
          ],
          "barpolar": [
           {
            "marker": {
             "line": {
              "color": "#E5ECF6",
              "width": 0.5
             },
             "pattern": {
              "fillmode": "overlay",
              "size": 10,
              "solidity": 0.2
             }
            },
            "type": "barpolar"
           }
          ],
          "carpet": [
           {
            "aaxis": {
             "endlinecolor": "#2a3f5f",
             "gridcolor": "white",
             "linecolor": "white",
             "minorgridcolor": "white",
             "startlinecolor": "#2a3f5f"
            },
            "baxis": {
             "endlinecolor": "#2a3f5f",
             "gridcolor": "white",
             "linecolor": "white",
             "minorgridcolor": "white",
             "startlinecolor": "#2a3f5f"
            },
            "type": "carpet"
           }
          ],
          "choropleth": [
           {
            "colorbar": {
             "outlinewidth": 0,
             "ticks": ""
            },
            "type": "choropleth"
           }
          ],
          "contour": [
           {
            "colorbar": {
             "outlinewidth": 0,
             "ticks": ""
            },
            "colorscale": [
             [
              0,
              "#0d0887"
             ],
             [
              0.1111111111111111,
              "#46039f"
             ],
             [
              0.2222222222222222,
              "#7201a8"
             ],
             [
              0.3333333333333333,
              "#9c179e"
             ],
             [
              0.4444444444444444,
              "#bd3786"
             ],
             [
              0.5555555555555556,
              "#d8576b"
             ],
             [
              0.6666666666666666,
              "#ed7953"
             ],
             [
              0.7777777777777778,
              "#fb9f3a"
             ],
             [
              0.8888888888888888,
              "#fdca26"
             ],
             [
              1,
              "#f0f921"
             ]
            ],
            "type": "contour"
           }
          ],
          "contourcarpet": [
           {
            "colorbar": {
             "outlinewidth": 0,
             "ticks": ""
            },
            "type": "contourcarpet"
           }
          ],
          "heatmap": [
           {
            "colorbar": {
             "outlinewidth": 0,
             "ticks": ""
            },
            "colorscale": [
             [
              0,
              "#0d0887"
             ],
             [
              0.1111111111111111,
              "#46039f"
             ],
             [
              0.2222222222222222,
              "#7201a8"
             ],
             [
              0.3333333333333333,
              "#9c179e"
             ],
             [
              0.4444444444444444,
              "#bd3786"
             ],
             [
              0.5555555555555556,
              "#d8576b"
             ],
             [
              0.6666666666666666,
              "#ed7953"
             ],
             [
              0.7777777777777778,
              "#fb9f3a"
             ],
             [
              0.8888888888888888,
              "#fdca26"
             ],
             [
              1,
              "#f0f921"
             ]
            ],
            "type": "heatmap"
           }
          ],
          "heatmapgl": [
           {
            "colorbar": {
             "outlinewidth": 0,
             "ticks": ""
            },
            "colorscale": [
             [
              0,
              "#0d0887"
             ],
             [
              0.1111111111111111,
              "#46039f"
             ],
             [
              0.2222222222222222,
              "#7201a8"
             ],
             [
              0.3333333333333333,
              "#9c179e"
             ],
             [
              0.4444444444444444,
              "#bd3786"
             ],
             [
              0.5555555555555556,
              "#d8576b"
             ],
             [
              0.6666666666666666,
              "#ed7953"
             ],
             [
              0.7777777777777778,
              "#fb9f3a"
             ],
             [
              0.8888888888888888,
              "#fdca26"
             ],
             [
              1,
              "#f0f921"
             ]
            ],
            "type": "heatmapgl"
           }
          ],
          "histogram": [
           {
            "marker": {
             "pattern": {
              "fillmode": "overlay",
              "size": 10,
              "solidity": 0.2
             }
            },
            "type": "histogram"
           }
          ],
          "histogram2d": [
           {
            "colorbar": {
             "outlinewidth": 0,
             "ticks": ""
            },
            "colorscale": [
             [
              0,
              "#0d0887"
             ],
             [
              0.1111111111111111,
              "#46039f"
             ],
             [
              0.2222222222222222,
              "#7201a8"
             ],
             [
              0.3333333333333333,
              "#9c179e"
             ],
             [
              0.4444444444444444,
              "#bd3786"
             ],
             [
              0.5555555555555556,
              "#d8576b"
             ],
             [
              0.6666666666666666,
              "#ed7953"
             ],
             [
              0.7777777777777778,
              "#fb9f3a"
             ],
             [
              0.8888888888888888,
              "#fdca26"
             ],
             [
              1,
              "#f0f921"
             ]
            ],
            "type": "histogram2d"
           }
          ],
          "histogram2dcontour": [
           {
            "colorbar": {
             "outlinewidth": 0,
             "ticks": ""
            },
            "colorscale": [
             [
              0,
              "#0d0887"
             ],
             [
              0.1111111111111111,
              "#46039f"
             ],
             [
              0.2222222222222222,
              "#7201a8"
             ],
             [
              0.3333333333333333,
              "#9c179e"
             ],
             [
              0.4444444444444444,
              "#bd3786"
             ],
             [
              0.5555555555555556,
              "#d8576b"
             ],
             [
              0.6666666666666666,
              "#ed7953"
             ],
             [
              0.7777777777777778,
              "#fb9f3a"
             ],
             [
              0.8888888888888888,
              "#fdca26"
             ],
             [
              1,
              "#f0f921"
             ]
            ],
            "type": "histogram2dcontour"
           }
          ],
          "mesh3d": [
           {
            "colorbar": {
             "outlinewidth": 0,
             "ticks": ""
            },
            "type": "mesh3d"
           }
          ],
          "parcoords": [
           {
            "line": {
             "colorbar": {
              "outlinewidth": 0,
              "ticks": ""
             }
            },
            "type": "parcoords"
           }
          ],
          "pie": [
           {
            "automargin": true,
            "type": "pie"
           }
          ],
          "scatter": [
           {
            "fillpattern": {
             "fillmode": "overlay",
             "size": 10,
             "solidity": 0.2
            },
            "type": "scatter"
           }
          ],
          "scatter3d": [
           {
            "line": {
             "colorbar": {
              "outlinewidth": 0,
              "ticks": ""
             }
            },
            "marker": {
             "colorbar": {
              "outlinewidth": 0,
              "ticks": ""
             }
            },
            "type": "scatter3d"
           }
          ],
          "scattercarpet": [
           {
            "marker": {
             "colorbar": {
              "outlinewidth": 0,
              "ticks": ""
             }
            },
            "type": "scattercarpet"
           }
          ],
          "scattergeo": [
           {
            "marker": {
             "colorbar": {
              "outlinewidth": 0,
              "ticks": ""
             }
            },
            "type": "scattergeo"
           }
          ],
          "scattergl": [
           {
            "marker": {
             "colorbar": {
              "outlinewidth": 0,
              "ticks": ""
             }
            },
            "type": "scattergl"
           }
          ],
          "scattermapbox": [
           {
            "marker": {
             "colorbar": {
              "outlinewidth": 0,
              "ticks": ""
             }
            },
            "type": "scattermapbox"
           }
          ],
          "scatterpolar": [
           {
            "marker": {
             "colorbar": {
              "outlinewidth": 0,
              "ticks": ""
             }
            },
            "type": "scatterpolar"
           }
          ],
          "scatterpolargl": [
           {
            "marker": {
             "colorbar": {
              "outlinewidth": 0,
              "ticks": ""
             }
            },
            "type": "scatterpolargl"
           }
          ],
          "scatterternary": [
           {
            "marker": {
             "colorbar": {
              "outlinewidth": 0,
              "ticks": ""
             }
            },
            "type": "scatterternary"
           }
          ],
          "surface": [
           {
            "colorbar": {
             "outlinewidth": 0,
             "ticks": ""
            },
            "colorscale": [
             [
              0,
              "#0d0887"
             ],
             [
              0.1111111111111111,
              "#46039f"
             ],
             [
              0.2222222222222222,
              "#7201a8"
             ],
             [
              0.3333333333333333,
              "#9c179e"
             ],
             [
              0.4444444444444444,
              "#bd3786"
             ],
             [
              0.5555555555555556,
              "#d8576b"
             ],
             [
              0.6666666666666666,
              "#ed7953"
             ],
             [
              0.7777777777777778,
              "#fb9f3a"
             ],
             [
              0.8888888888888888,
              "#fdca26"
             ],
             [
              1,
              "#f0f921"
             ]
            ],
            "type": "surface"
           }
          ],
          "table": [
           {
            "cells": {
             "fill": {
              "color": "#EBF0F8"
             },
             "line": {
              "color": "white"
             }
            },
            "header": {
             "fill": {
              "color": "#C8D4E3"
             },
             "line": {
              "color": "white"
             }
            },
            "type": "table"
           }
          ]
         },
         "layout": {
          "annotationdefaults": {
           "arrowcolor": "#2a3f5f",
           "arrowhead": 0,
           "arrowwidth": 1
          },
          "autotypenumbers": "strict",
          "coloraxis": {
           "colorbar": {
            "outlinewidth": 0,
            "ticks": ""
           }
          },
          "colorscale": {
           "diverging": [
            [
             0,
             "#8e0152"
            ],
            [
             0.1,
             "#c51b7d"
            ],
            [
             0.2,
             "#de77ae"
            ],
            [
             0.3,
             "#f1b6da"
            ],
            [
             0.4,
             "#fde0ef"
            ],
            [
             0.5,
             "#f7f7f7"
            ],
            [
             0.6,
             "#e6f5d0"
            ],
            [
             0.7,
             "#b8e186"
            ],
            [
             0.8,
             "#7fbc41"
            ],
            [
             0.9,
             "#4d9221"
            ],
            [
             1,
             "#276419"
            ]
           ],
           "sequential": [
            [
             0,
             "#0d0887"
            ],
            [
             0.1111111111111111,
             "#46039f"
            ],
            [
             0.2222222222222222,
             "#7201a8"
            ],
            [
             0.3333333333333333,
             "#9c179e"
            ],
            [
             0.4444444444444444,
             "#bd3786"
            ],
            [
             0.5555555555555556,
             "#d8576b"
            ],
            [
             0.6666666666666666,
             "#ed7953"
            ],
            [
             0.7777777777777778,
             "#fb9f3a"
            ],
            [
             0.8888888888888888,
             "#fdca26"
            ],
            [
             1,
             "#f0f921"
            ]
           ],
           "sequentialminus": [
            [
             0,
             "#0d0887"
            ],
            [
             0.1111111111111111,
             "#46039f"
            ],
            [
             0.2222222222222222,
             "#7201a8"
            ],
            [
             0.3333333333333333,
             "#9c179e"
            ],
            [
             0.4444444444444444,
             "#bd3786"
            ],
            [
             0.5555555555555556,
             "#d8576b"
            ],
            [
             0.6666666666666666,
             "#ed7953"
            ],
            [
             0.7777777777777778,
             "#fb9f3a"
            ],
            [
             0.8888888888888888,
             "#fdca26"
            ],
            [
             1,
             "#f0f921"
            ]
           ]
          },
          "colorway": [
           "#636efa",
           "#EF553B",
           "#00cc96",
           "#ab63fa",
           "#FFA15A",
           "#19d3f3",
           "#FF6692",
           "#B6E880",
           "#FF97FF",
           "#FECB52"
          ],
          "font": {
           "color": "#2a3f5f"
          },
          "geo": {
           "bgcolor": "white",
           "lakecolor": "white",
           "landcolor": "#E5ECF6",
           "showlakes": true,
           "showland": true,
           "subunitcolor": "white"
          },
          "hoverlabel": {
           "align": "left"
          },
          "hovermode": "closest",
          "mapbox": {
           "style": "light"
          },
          "paper_bgcolor": "white",
          "plot_bgcolor": "#E5ECF6",
          "polar": {
           "angularaxis": {
            "gridcolor": "white",
            "linecolor": "white",
            "ticks": ""
           },
           "bgcolor": "#E5ECF6",
           "radialaxis": {
            "gridcolor": "white",
            "linecolor": "white",
            "ticks": ""
           }
          },
          "scene": {
           "xaxis": {
            "backgroundcolor": "#E5ECF6",
            "gridcolor": "white",
            "gridwidth": 2,
            "linecolor": "white",
            "showbackground": true,
            "ticks": "",
            "zerolinecolor": "white"
           },
           "yaxis": {
            "backgroundcolor": "#E5ECF6",
            "gridcolor": "white",
            "gridwidth": 2,
            "linecolor": "white",
            "showbackground": true,
            "ticks": "",
            "zerolinecolor": "white"
           },
           "zaxis": {
            "backgroundcolor": "#E5ECF6",
            "gridcolor": "white",
            "gridwidth": 2,
            "linecolor": "white",
            "showbackground": true,
            "ticks": "",
            "zerolinecolor": "white"
           }
          },
          "shapedefaults": {
           "line": {
            "color": "#2a3f5f"
           }
          },
          "ternary": {
           "aaxis": {
            "gridcolor": "white",
            "linecolor": "white",
            "ticks": ""
           },
           "baxis": {
            "gridcolor": "white",
            "linecolor": "white",
            "ticks": ""
           },
           "bgcolor": "#E5ECF6",
           "caxis": {
            "gridcolor": "white",
            "linecolor": "white",
            "ticks": ""
           }
          },
          "title": {
           "x": 0.05
          },
          "xaxis": {
           "automargin": true,
           "gridcolor": "white",
           "linecolor": "white",
           "ticks": "",
           "title": {
            "standoff": 15
           },
           "zerolinecolor": "white",
           "zerolinewidth": 2
          },
          "yaxis": {
           "automargin": true,
           "gridcolor": "white",
           "linecolor": "white",
           "ticks": "",
           "title": {
            "standoff": 15
           },
           "zerolinecolor": "white",
           "zerolinewidth": 2
          }
         }
        },
        "title": {
         "text": "Relationship Cardinalities"
        },
        "xaxis": {
         "anchor": "y",
         "domain": [
          0,
          1
         ],
         "tickangle": -45,
         "title": {
          "text": "RelationshipType"
         }
        },
        "yaxis": {
         "anchor": "x",
         "domain": [
          0,
          1
         ],
         "title": {
          "text": "count"
         }
        }
       }
      },
      "text/html": [
       "<div>                            <div id=\"50b4eaf0-54ee-4402-961b-c3bc03aadfd6\" class=\"plotly-graph-div\" style=\"height:525px; width:100%;\"></div>            <script type=\"text/javascript\">                require([\"plotly\"], function(Plotly) {                    window.PLOTLYENV=window.PLOTLYENV || {};                                    if (document.getElementById(\"50b4eaf0-54ee-4402-961b-c3bc03aadfd6\")) {                    Plotly.newPlot(                        \"50b4eaf0-54ee-4402-961b-c3bc03aadfd6\",                        [{\"alignmentgroup\":\"True\",\"hovertemplate\":\"RelationshipType=%{x}<br>count=%{y}<extra></extra>\",\"legendgroup\":\"\",\"marker\":{\"color\":\"#636efa\",\"pattern\":{\"shape\":\"\"}},\"name\":\"\",\"offsetgroup\":\"\",\"orientation\":\"v\",\"showlegend\":false,\"textposition\":\"auto\",\"x\":[\"PURCHASED_ON\",\"PURCHASED\",\"PRODUCT_PRICE\",\"HAS_DISCOUNT\",\"AFTER_DISCOUNT\",\"PAYMENT_TYPE\",\"DELIVERS_TO\",\"DELIVERED_STATUS\",\"ID\",\"PRODUCT_QUANTITY\",\"RELATED_TO\"],\"xaxis\":\"x\",\"y\":[199,197,29,31,32,24,94,95,199,29,199],\"yaxis\":\"y\",\"type\":\"bar\"}],                        {\"template\":{\"data\":{\"histogram2dcontour\":[{\"type\":\"histogram2dcontour\",\"colorbar\":{\"outlinewidth\":0,\"ticks\":\"\"},\"colorscale\":[[0.0,\"#0d0887\"],[0.1111111111111111,\"#46039f\"],[0.2222222222222222,\"#7201a8\"],[0.3333333333333333,\"#9c179e\"],[0.4444444444444444,\"#bd3786\"],[0.5555555555555556,\"#d8576b\"],[0.6666666666666666,\"#ed7953\"],[0.7777777777777778,\"#fb9f3a\"],[0.8888888888888888,\"#fdca26\"],[1.0,\"#f0f921\"]]}],\"choropleth\":[{\"type\":\"choropleth\",\"colorbar\":{\"outlinewidth\":0,\"ticks\":\"\"}}],\"histogram2d\":[{\"type\":\"histogram2d\",\"colorbar\":{\"outlinewidth\":0,\"ticks\":\"\"},\"colorscale\":[[0.0,\"#0d0887\"],[0.1111111111111111,\"#46039f\"],[0.2222222222222222,\"#7201a8\"],[0.3333333333333333,\"#9c179e\"],[0.4444444444444444,\"#bd3786\"],[0.5555555555555556,\"#d8576b\"],[0.6666666666666666,\"#ed7953\"],[0.7777777777777778,\"#fb9f3a\"],[0.8888888888888888,\"#fdca26\"],[1.0,\"#f0f921\"]]}],\"heatmap\":[{\"type\":\"heatmap\",\"colorbar\":{\"outlinewidth\":0,\"ticks\":\"\"},\"colorscale\":[[0.0,\"#0d0887\"],[0.1111111111111111,\"#46039f\"],[0.2222222222222222,\"#7201a8\"],[0.3333333333333333,\"#9c179e\"],[0.4444444444444444,\"#bd3786\"],[0.5555555555555556,\"#d8576b\"],[0.6666666666666666,\"#ed7953\"],[0.7777777777777778,\"#fb9f3a\"],[0.8888888888888888,\"#fdca26\"],[1.0,\"#f0f921\"]]}],\"heatmapgl\":[{\"type\":\"heatmapgl\",\"colorbar\":{\"outlinewidth\":0,\"ticks\":\"\"},\"colorscale\":[[0.0,\"#0d0887\"],[0.1111111111111111,\"#46039f\"],[0.2222222222222222,\"#7201a8\"],[0.3333333333333333,\"#9c179e\"],[0.4444444444444444,\"#bd3786\"],[0.5555555555555556,\"#d8576b\"],[0.6666666666666666,\"#ed7953\"],[0.7777777777777778,\"#fb9f3a\"],[0.8888888888888888,\"#fdca26\"],[1.0,\"#f0f921\"]]}],\"contourcarpet\":[{\"type\":\"contourcarpet\",\"colorbar\":{\"outlinewidth\":0,\"ticks\":\"\"}}],\"contour\":[{\"type\":\"contour\",\"colorbar\":{\"outlinewidth\":0,\"ticks\":\"\"},\"colorscale\":[[0.0,\"#0d0887\"],[0.1111111111111111,\"#46039f\"],[0.2222222222222222,\"#7201a8\"],[0.3333333333333333,\"#9c179e\"],[0.4444444444444444,\"#bd3786\"],[0.5555555555555556,\"#d8576b\"],[0.6666666666666666,\"#ed7953\"],[0.7777777777777778,\"#fb9f3a\"],[0.8888888888888888,\"#fdca26\"],[1.0,\"#f0f921\"]]}],\"surface\":[{\"type\":\"surface\",\"colorbar\":{\"outlinewidth\":0,\"ticks\":\"\"},\"colorscale\":[[0.0,\"#0d0887\"],[0.1111111111111111,\"#46039f\"],[0.2222222222222222,\"#7201a8\"],[0.3333333333333333,\"#9c179e\"],[0.4444444444444444,\"#bd3786\"],[0.5555555555555556,\"#d8576b\"],[0.6666666666666666,\"#ed7953\"],[0.7777777777777778,\"#fb9f3a\"],[0.8888888888888888,\"#fdca26\"],[1.0,\"#f0f921\"]]}],\"mesh3d\":[{\"type\":\"mesh3d\",\"colorbar\":{\"outlinewidth\":0,\"ticks\":\"\"}}],\"scatter\":[{\"fillpattern\":{\"fillmode\":\"overlay\",\"size\":10,\"solidity\":0.2},\"type\":\"scatter\"}],\"parcoords\":[{\"type\":\"parcoords\",\"line\":{\"colorbar\":{\"outlinewidth\":0,\"ticks\":\"\"}}}],\"scatterpolargl\":[{\"type\":\"scatterpolargl\",\"marker\":{\"colorbar\":{\"outlinewidth\":0,\"ticks\":\"\"}}}],\"bar\":[{\"error_x\":{\"color\":\"#2a3f5f\"},\"error_y\":{\"color\":\"#2a3f5f\"},\"marker\":{\"line\":{\"color\":\"#E5ECF6\",\"width\":0.5},\"pattern\":{\"fillmode\":\"overlay\",\"size\":10,\"solidity\":0.2}},\"type\":\"bar\"}],\"scattergeo\":[{\"type\":\"scattergeo\",\"marker\":{\"colorbar\":{\"outlinewidth\":0,\"ticks\":\"\"}}}],\"scatterpolar\":[{\"type\":\"scatterpolar\",\"marker\":{\"colorbar\":{\"outlinewidth\":0,\"ticks\":\"\"}}}],\"histogram\":[{\"marker\":{\"pattern\":{\"fillmode\":\"overlay\",\"size\":10,\"solidity\":0.2}},\"type\":\"histogram\"}],\"scattergl\":[{\"type\":\"scattergl\",\"marker\":{\"colorbar\":{\"outlinewidth\":0,\"ticks\":\"\"}}}],\"scatter3d\":[{\"type\":\"scatter3d\",\"line\":{\"colorbar\":{\"outlinewidth\":0,\"ticks\":\"\"}},\"marker\":{\"colorbar\":{\"outlinewidth\":0,\"ticks\":\"\"}}}],\"scattermapbox\":[{\"type\":\"scattermapbox\",\"marker\":{\"colorbar\":{\"outlinewidth\":0,\"ticks\":\"\"}}}],\"scatterternary\":[{\"type\":\"scatterternary\",\"marker\":{\"colorbar\":{\"outlinewidth\":0,\"ticks\":\"\"}}}],\"scattercarpet\":[{\"type\":\"scattercarpet\",\"marker\":{\"colorbar\":{\"outlinewidth\":0,\"ticks\":\"\"}}}],\"carpet\":[{\"aaxis\":{\"endlinecolor\":\"#2a3f5f\",\"gridcolor\":\"white\",\"linecolor\":\"white\",\"minorgridcolor\":\"white\",\"startlinecolor\":\"#2a3f5f\"},\"baxis\":{\"endlinecolor\":\"#2a3f5f\",\"gridcolor\":\"white\",\"linecolor\":\"white\",\"minorgridcolor\":\"white\",\"startlinecolor\":\"#2a3f5f\"},\"type\":\"carpet\"}],\"table\":[{\"cells\":{\"fill\":{\"color\":\"#EBF0F8\"},\"line\":{\"color\":\"white\"}},\"header\":{\"fill\":{\"color\":\"#C8D4E3\"},\"line\":{\"color\":\"white\"}},\"type\":\"table\"}],\"barpolar\":[{\"marker\":{\"line\":{\"color\":\"#E5ECF6\",\"width\":0.5},\"pattern\":{\"fillmode\":\"overlay\",\"size\":10,\"solidity\":0.2}},\"type\":\"barpolar\"}],\"pie\":[{\"automargin\":true,\"type\":\"pie\"}]},\"layout\":{\"autotypenumbers\":\"strict\",\"colorway\":[\"#636efa\",\"#EF553B\",\"#00cc96\",\"#ab63fa\",\"#FFA15A\",\"#19d3f3\",\"#FF6692\",\"#B6E880\",\"#FF97FF\",\"#FECB52\"],\"font\":{\"color\":\"#2a3f5f\"},\"hovermode\":\"closest\",\"hoverlabel\":{\"align\":\"left\"},\"paper_bgcolor\":\"white\",\"plot_bgcolor\":\"#E5ECF6\",\"polar\":{\"bgcolor\":\"#E5ECF6\",\"angularaxis\":{\"gridcolor\":\"white\",\"linecolor\":\"white\",\"ticks\":\"\"},\"radialaxis\":{\"gridcolor\":\"white\",\"linecolor\":\"white\",\"ticks\":\"\"}},\"ternary\":{\"bgcolor\":\"#E5ECF6\",\"aaxis\":{\"gridcolor\":\"white\",\"linecolor\":\"white\",\"ticks\":\"\"},\"baxis\":{\"gridcolor\":\"white\",\"linecolor\":\"white\",\"ticks\":\"\"},\"caxis\":{\"gridcolor\":\"white\",\"linecolor\":\"white\",\"ticks\":\"\"}},\"coloraxis\":{\"colorbar\":{\"outlinewidth\":0,\"ticks\":\"\"}},\"colorscale\":{\"sequential\":[[0.0,\"#0d0887\"],[0.1111111111111111,\"#46039f\"],[0.2222222222222222,\"#7201a8\"],[0.3333333333333333,\"#9c179e\"],[0.4444444444444444,\"#bd3786\"],[0.5555555555555556,\"#d8576b\"],[0.6666666666666666,\"#ed7953\"],[0.7777777777777778,\"#fb9f3a\"],[0.8888888888888888,\"#fdca26\"],[1.0,\"#f0f921\"]],\"sequentialminus\":[[0.0,\"#0d0887\"],[0.1111111111111111,\"#46039f\"],[0.2222222222222222,\"#7201a8\"],[0.3333333333333333,\"#9c179e\"],[0.4444444444444444,\"#bd3786\"],[0.5555555555555556,\"#d8576b\"],[0.6666666666666666,\"#ed7953\"],[0.7777777777777778,\"#fb9f3a\"],[0.8888888888888888,\"#fdca26\"],[1.0,\"#f0f921\"]],\"diverging\":[[0,\"#8e0152\"],[0.1,\"#c51b7d\"],[0.2,\"#de77ae\"],[0.3,\"#f1b6da\"],[0.4,\"#fde0ef\"],[0.5,\"#f7f7f7\"],[0.6,\"#e6f5d0\"],[0.7,\"#b8e186\"],[0.8,\"#7fbc41\"],[0.9,\"#4d9221\"],[1,\"#276419\"]]},\"xaxis\":{\"gridcolor\":\"white\",\"linecolor\":\"white\",\"ticks\":\"\",\"title\":{\"standoff\":15},\"zerolinecolor\":\"white\",\"automargin\":true,\"zerolinewidth\":2},\"yaxis\":{\"gridcolor\":\"white\",\"linecolor\":\"white\",\"ticks\":\"\",\"title\":{\"standoff\":15},\"zerolinecolor\":\"white\",\"automargin\":true,\"zerolinewidth\":2},\"scene\":{\"xaxis\":{\"backgroundcolor\":\"#E5ECF6\",\"gridcolor\":\"white\",\"linecolor\":\"white\",\"showbackground\":true,\"ticks\":\"\",\"zerolinecolor\":\"white\",\"gridwidth\":2},\"yaxis\":{\"backgroundcolor\":\"#E5ECF6\",\"gridcolor\":\"white\",\"linecolor\":\"white\",\"showbackground\":true,\"ticks\":\"\",\"zerolinecolor\":\"white\",\"gridwidth\":2},\"zaxis\":{\"backgroundcolor\":\"#E5ECF6\",\"gridcolor\":\"white\",\"linecolor\":\"white\",\"showbackground\":true,\"ticks\":\"\",\"zerolinecolor\":\"white\",\"gridwidth\":2}},\"shapedefaults\":{\"line\":{\"color\":\"#2a3f5f\"}},\"annotationdefaults\":{\"arrowcolor\":\"#2a3f5f\",\"arrowhead\":0,\"arrowwidth\":1},\"geo\":{\"bgcolor\":\"white\",\"landcolor\":\"#E5ECF6\",\"subunitcolor\":\"white\",\"showland\":true,\"showlakes\":true,\"lakecolor\":\"white\"},\"title\":{\"x\":0.05},\"mapbox\":{\"style\":\"light\"}}},\"xaxis\":{\"anchor\":\"y\",\"domain\":[0.0,1.0],\"title\":{\"text\":\"RelationshipType\"},\"tickangle\":-45},\"yaxis\":{\"anchor\":\"x\",\"domain\":[0.0,1.0],\"title\":{\"text\":\"count\"}},\"legend\":{\"tracegroupgap\":0},\"title\":{\"text\":\"Relationship Cardinalities\"},\"barmode\":\"relative\"},                        {\"responsive\": true}                    ).then(function(){\n",
       "                            \n",
       "var gd = document.getElementById('50b4eaf0-54ee-4402-961b-c3bc03aadfd6');\n",
       "var x = new MutationObserver(function (mutations, observer) {{\n",
       "        var display = window.getComputedStyle(gd).display;\n",
       "        if (!display || display === 'none') {{\n",
       "            console.log([gd, 'removed!']);\n",
       "            Plotly.purge(gd);\n",
       "            observer.disconnect();\n",
       "        }}\n",
       "}});\n",
       "\n",
       "// Listen for the removal of the full notebook cells\n",
       "var notebookContainer = gd.closest('#notebook-container');\n",
       "if (notebookContainer) {{\n",
       "    x.observe(notebookContainer, {childList: true});\n",
       "}}\n",
       "\n",
       "// Listen for the clearing of the current output cell\n",
       "var outputEl = gd.closest('.output');\n",
       "if (outputEl) {{\n",
       "    x.observe(outputEl, {childList: true});\n",
       "}}\n",
       "\n",
       "                        })                };                });            </script>        </div>"
      ]
     },
     "metadata": {},
     "output_type": "display_data"
    }
   ],
   "source": [
    "fig=px.bar(rels_df,x='RelationshipType',y='count',title=\"Relationship Cardinalities\")\n",
    "fig.update_layout(xaxis_tickangle=-45)\n",
    "fig.show()"
   ]
  },
  {
   "cell_type": "code",
   "execution_count": 405,
   "id": "deadly-directive",
   "metadata": {},
   "outputs": [
    {
     "data": {
      "text/html": [
       "<div>\n",
       "<style scoped>\n",
       "    .dataframe tbody tr th:only-of-type {\n",
       "        vertical-align: middle;\n",
       "    }\n",
       "\n",
       "    .dataframe tbody tr th {\n",
       "        vertical-align: top;\n",
       "    }\n",
       "\n",
       "    .dataframe thead th {\n",
       "        text-align: right;\n",
       "    }\n",
       "</style>\n",
       "<table border=\"1\" class=\"dataframe\">\n",
       "  <thead>\n",
       "    <tr style=\"text-align: right;\">\n",
       "      <th></th>\n",
       "      <th>Customer</th>\n",
       "      <th>PurchasedProducts</th>\n",
       "      <th>TotalProducts</th>\n",
       "    </tr>\n",
       "  </thead>\n",
       "  <tbody>\n",
       "    <tr>\n",
       "      <th>0</th>\n",
       "      <td>Shreyas M R</td>\n",
       "      <td>[PTron Tangent Plus V2 Wireless Bluetooth In-E...</td>\n",
       "      <td>6</td>\n",
       "    </tr>\n",
       "    <tr>\n",
       "      <th>1</th>\n",
       "      <td>Nagnath Bhusnar</td>\n",
       "      <td>[pTron Bassfest Plus Magnetic in-Ear Bluetooth...</td>\n",
       "      <td>2</td>\n",
       "    </tr>\n",
       "    <tr>\n",
       "      <th>2</th>\n",
       "      <td>Anjali Chopra</td>\n",
       "      <td>[pTron Basspods 992 Active Noise Cancelling (A...</td>\n",
       "      <td>2</td>\n",
       "    </tr>\n",
       "    <tr>\n",
       "      <th>3</th>\n",
       "      <td>Ramani Nair</td>\n",
       "      <td>[pTron Fusion 10W Bluetooth 5.0 Wireless Speak...</td>\n",
       "      <td>2</td>\n",
       "    </tr>\n",
       "    <tr>\n",
       "      <th>4</th>\n",
       "      <td>Rajiv Kumar</td>\n",
       "      <td>[pTron Fusion 10W Bluetooth 5.0 Wireless Speak...</td>\n",
       "      <td>1</td>\n",
       "    </tr>\n",
       "    <tr>\n",
       "      <th>5</th>\n",
       "      <td>Suraj Duftuwar</td>\n",
       "      <td>[pTron Fusion 10W Bluetooth 5.0 Wireless Speak...</td>\n",
       "      <td>1</td>\n",
       "    </tr>\n",
       "    <tr>\n",
       "      <th>6</th>\n",
       "      <td>Vaidyanathan S</td>\n",
       "      <td>[pTron Fusion 10W Bluetooth 5.0 Wireless Speak...</td>\n",
       "      <td>1</td>\n",
       "    </tr>\n",
       "    <tr>\n",
       "      <th>7</th>\n",
       "      <td>Sarath G S</td>\n",
       "      <td>[pTron Fusion 10W Bluetooth 5.0 Wireless Speak...</td>\n",
       "      <td>1</td>\n",
       "    </tr>\n",
       "    <tr>\n",
       "      <th>8</th>\n",
       "      <td>Varnipa Bhendigeri</td>\n",
       "      <td>[pTron Fusion 10W Bluetooth 5.0 Wireless Speak...</td>\n",
       "      <td>1</td>\n",
       "    </tr>\n",
       "    <tr>\n",
       "      <th>9</th>\n",
       "      <td>Alkachenu Veerabadrudu</td>\n",
       "      <td>[pTron Fusion 10W Bluetooth 5.0 Wireless Speak...</td>\n",
       "      <td>1</td>\n",
       "    </tr>\n",
       "  </tbody>\n",
       "</table>\n",
       "</div>"
      ],
      "text/plain": [
       "                 Customer                                  PurchasedProducts  \\\n",
       "0             Shreyas M R  [PTron Tangent Plus V2 Wireless Bluetooth In-E...   \n",
       "1         Nagnath Bhusnar  [pTron Bassfest Plus Magnetic in-Ear Bluetooth...   \n",
       "2           Anjali Chopra  [pTron Basspods 992 Active Noise Cancelling (A...   \n",
       "3             Ramani Nair  [pTron Fusion 10W Bluetooth 5.0 Wireless Speak...   \n",
       "4             Rajiv Kumar  [pTron Fusion 10W Bluetooth 5.0 Wireless Speak...   \n",
       "5          Suraj Duftuwar  [pTron Fusion 10W Bluetooth 5.0 Wireless Speak...   \n",
       "6          Vaidyanathan S  [pTron Fusion 10W Bluetooth 5.0 Wireless Speak...   \n",
       "7              Sarath G S  [pTron Fusion 10W Bluetooth 5.0 Wireless Speak...   \n",
       "8      Varnipa Bhendigeri  [pTron Fusion 10W Bluetooth 5.0 Wireless Speak...   \n",
       "9  Alkachenu Veerabadrudu  [pTron Fusion 10W Bluetooth 5.0 Wireless Speak...   \n",
       "\n",
       "   TotalProducts  \n",
       "0              6  \n",
       "1              2  \n",
       "2              2  \n",
       "3              2  \n",
       "4              1  \n",
       "5              1  \n",
       "6              1  \n",
       "7              1  \n",
       "8              1  \n",
       "9              1  "
      ]
     },
     "execution_count": 405,
     "metadata": {},
     "output_type": "execute_result"
    }
   ],
   "source": [
    "analyze_top_10_customers=\"\"\"\n",
    "MATCH (c:Customer)-[r:PURCHASED]->(p:Product)\n",
    "WITH c,collect(p.pn) as products,count(*) as total\n",
    "RETURN  c.name as Customer, products As PurchasedProducts,total As TotalProducts\n",
    "ORDER BY total DESC\n",
    "LIMIT 25\n",
    "\"\"\"\n",
    "graph.run(analyze_top_10_customers).to_data_frame().head(10)"
   ]
  },
  {
   "cell_type": "markdown",
   "id": "popular-escape",
   "metadata": {},
   "source": [
    "### Algorithm Tests"
   ]
  },
  {
   "cell_type": "markdown",
   "id": "biological-prompt",
   "metadata": {},
   "source": [
    "#### Degree Centrality"
   ]
  },
  {
   "cell_type": "code",
   "execution_count": 406,
   "id": "related-trading",
   "metadata": {},
   "outputs": [
    {
     "name": "stdout",
     "output_type": "stream",
     "text": [
      " n                                                                                                                                                                                                                            |  c \r\n",
      "------------------------------------------------------------------------------------------------------------------------------------------------------------------------------------------------------------------------------|----\r\n",
      " (_804:Product {pn: 'pTron Bassbuds Tango ENC (Environmental Noise Cancellation), Dedicated Movie Mode, 40Hrs Playtime, Bluetooth 5.1 Wireless Headphones, Deep Bass, Touch Control TWS & Type-C Fast Charging (Black)'})     | 35 \r\n",
      " (_797:Product {pn: 'pTron Boom Ultima V2 Dual Driver, in-Ear Gaming Wired Headphones with in-line Mic, Volume Control, Passive Noise Cancelling Boom 3 Earphones with 3.5mm Audio Jack & 1.2M Tangle-Free Cable - (Black)'}) | 28 \r\n",
      " (_793:Product {pn: 'pTron Fusion 10W Bluetooth 5.0 Wireless Speaker, Stereo Sound Audio, 10Hrs Music Playback, Speaker with Mic, Portable Indoor Outdoor Speaker with Aux/TF Card/USB Ports - (Black)'})                     | 23 \r\n",
      "\n",
      "-- 0.14577364921569824 seconds --\n"
     ]
    }
   ],
   "source": [
    "request = '''\n",
    "match (n:Product)-[r]->()\n",
    "with n, count(r) as c\n",
    "return n,c\n",
    "order by c desc\n",
    "'''\n",
    "run_request(request,UPLOAD_DATA)"
   ]
  },
  {
   "cell_type": "code",
   "execution_count": 407,
   "id": "going-ballet",
   "metadata": {},
   "outputs": [
    {
     "name": "stdout",
     "output_type": "stream",
     "text": [
      " customer        | products                                                                                                                                                                                                                                                                                                                                                                                                                                                                                                                                                                       | outgoingDegree \r\n",
      "-----------------|--------------------------------------------------------------------------------------------------------------------------------------------------------------------------------------------------------------------------------------------------------------------------------------------------------------------------------------------------------------------------------------------------------------------------------------------------------------------------------------------------------------------------------------------------------------------------------|----------------\r\n",
      " Shreyas M R     | ['PTron Tangent Plus V2 Wireless Bluetooth In-Ear Headphone With Mic (Black and Blue)', 'PTron Tangent Plus V2 Wireless Bluetooth In-Ear Headphone With 18Hrs Playtime & Deep Bass (Black and Red)', 'PTron Tangent Plus V2 Wireless Bluetooth In-Ear Headphone With Mic (Black and Grey)', 'pTron Tangent Lite Magnetic In-Ear Wireless Bluetooth Headphones with Mic - (Black & Red)', 'pTron Tangent Lite Magnetic In-Ear Wireless Bluetooth Headphones with Mic - (Black & Green)', 'pTron Tangent Lite Magnetic In-Ear Wireless Bluetooth Headphones with Mic - (Black)'] |              6 \r\n",
      " Ramani Nair     | ['pTron Fusion 10W Bluetooth 5.0 Wireless Speaker, Stereo Sound Audio, 10Hrs Music Playback, Speaker with Mic, Portable Indoor Outdoor Speaker with Aux/TF Card/USB Ports - (Black)', 'pTron Bassfest Plus Magnetic in-Ear Bluetooth 5.0 Wireless Headphones, Stereo Sound with Bass, IPX4 Water & Sweat Resistant, Voice Assistance, Ergonomic & Lightweight, Built-in Mic - (Black & Grey)']                                                                                                                                                                                 |              2 \r\n",
      " Nagnath Bhusnar | ['pTron Bassfest Plus Magnetic in-Ear Bluetooth 5.0 Wireless Headphones, Stereo Sound with Bass, IPX4 Water & Sweat Resistant, Voice Assistance, Ergonomic & Lightweight, Built-in Mic - (Black & Grey)', 'pTron Bassfest Plus Magnetic In-Ear Bluetooth 5.0 Wireless Headphones, Stereo Sound with Bass, IPX4 Water & Sweat Resistant, Voice Assistance, Ergonomic & Lightweight, Built-in Mic - (Black & Red)']                                                                                                                                                              |              2 \r\n",
      "\n",
      "-- 0.35724735260009766 seconds --\n"
     ]
    }
   ],
   "source": [
    "request = '''\n",
    "MATCH (c:Customer)-[r:PURCHASED]->(p:Product)\n",
    "RETURN c.name as customer, collect(p.pn) as products, count(r) as outgoingDegree\n",
    "ORDER BY outgoingDegree DESC\n",
    "'''\n",
    "run_request(request,UPLOAD_DATA)"
   ]
  },
  {
   "cell_type": "code",
   "execution_count": 408,
   "id": "sitting-extra",
   "metadata": {},
   "outputs": [
    {
     "name": "stdout",
     "output_type": "stream",
     "text": [
      " user               | product                                                                                                                                                                           | score \r\n",
      "--------------------|-----------------------------------------------------------------------------------------------------------------------------------------------------------------------------------|-------\r\n",
      " Mukesh Muddhineni  | pTron Fusion 10W Bluetooth 5.0 Wireless Speaker, Stereo Sound Audio, 10Hrs Music Playback, Speaker with Mic, Portable Indoor Outdoor Speaker with Aux/TF Card/USB Ports - (Black) |   0.0 \r\n",
      " Prashant Pandey    | pTron Fusion 10W Bluetooth 5.0 Wireless Speaker, Stereo Sound Audio, 10Hrs Music Playback, Speaker with Mic, Portable Indoor Outdoor Speaker with Aux/TF Card/USB Ports - (Black) |   0.0 \r\n",
      " shivaraj medipally | pTron Fusion 10W Bluetooth 5.0 Wireless Speaker, Stereo Sound Audio, 10Hrs Music Playback, Speaker with Mic, Portable Indoor Outdoor Speaker with Aux/TF Card/USB Ports - (Black) |   0.0 \r\n",
      "\n",
      "-- 1.5253193378448486 seconds --\n"
     ]
    }
   ],
   "source": [
    "request = '''\n",
    "MATCH (c:Customer)\n",
    "MATCH (p:Product)\n",
    "WHERE NOT EXISTS ( (c)-[:PURCHASED]->(p) )\n",
    "WITH c.name as user, p.pn as product, gds.alpha.linkprediction.commonNeighbors(c, p, {\n",
    "    relationshipQuery: \"PURCHASED\",\n",
    "    direction: \"BOTH\"\n",
    "}) as score\n",
    "RETURN user, product, score\n",
    "ORDER BY score DESC\n",
    "'''\n",
    "run_request(request,UPLOAD_DATA)"
   ]
  },
  {
   "cell_type": "code",
   "execution_count": 409,
   "id": "hazardous-parliament",
   "metadata": {},
   "outputs": [
    {
     "name": "stdout",
     "output_type": "stream",
     "text": [
      " user          | product                                                                                                                                                                                           | score \r\n",
      "---------------|---------------------------------------------------------------------------------------------------------------------------------------------------------------------------------------------------|-------\r\n",
      " Shreyas M R   | pTron Bassbuds Tango ENC (Environmental Noise Cancellation), Dedicated Movie Mode, 40Hrs Playtime, Bluetooth 5.1 Wireless Headphones, Deep Bass, Touch Control TWS & Type-C Fast Charging (Black) |  39.0 \r\n",
      " Ramani Nair   | pTron Bassbuds Tango ENC (Environmental Noise Cancellation), Dedicated Movie Mode, 40Hrs Playtime, Bluetooth 5.1 Wireless Headphones, Deep Bass, Touch Control TWS & Type-C Fast Charging (Black) |  35.0 \r\n",
      " Anjali Chopra | pTron Bassbuds Tango ENC (Environmental Noise Cancellation), Dedicated Movie Mode, 40Hrs Playtime, Bluetooth 5.1 Wireless Headphones, Deep Bass, Touch Control TWS & Type-C Fast Charging (Black) |  35.0 \r\n",
      "\n",
      "-- 0.9315681457519531 seconds --\n"
     ]
    }
   ],
   "source": [
    "request = '''\n",
    "MATCH (c:Customer)\n",
    "MATCH (p:Product)\n",
    "WHERE NOT EXISTS ( (c)-[:PURCHASED]->(p) )\n",
    "WITH c.name as user, p.pn as product, gds.alpha.linkprediction.totalNeighbors (c, p, {\n",
    "    relationshipQuery: \"PURCHASED\",\n",
    "    direction: \"BOTH\"\n",
    "}) as score\n",
    "RETURN user, product, score\n",
    "ORDER BY score DESC\n",
    "'''\n",
    "run_request(request,UPLOAD_DATA)"
   ]
  },
  {
   "cell_type": "code",
   "execution_count": null,
   "id": "disciplinary-cassette",
   "metadata": {},
   "outputs": [],
   "source": []
  }
 ],
 "metadata": {
  "kernelspec": {
   "display_name": "Python 3",
   "language": "python",
   "name": "python3"
  },
  "language_info": {
   "codemirror_mode": {
    "name": "ipython",
    "version": 3
   },
   "file_extension": ".py",
   "mimetype": "text/x-python",
   "name": "python",
   "nbconvert_exporter": "python",
   "pygments_lexer": "ipython3",
   "version": "3.9.1"
  }
 },
 "nbformat": 4,
 "nbformat_minor": 5
}
